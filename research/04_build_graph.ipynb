{
 "cells": [
  {
   "cell_type": "code",
   "execution_count": 1,
   "metadata": {},
   "outputs": [
    {
     "name": "stderr",
     "output_type": "stream",
     "text": [
      "C:\\Users\\kamran\\AppData\\Local\\Temp\\ipykernel_12656\\1425980433.py:3: TqdmWarning: IProgress not found. Please update jupyter and ipywidgets. See https://ipywidgets.readthedocs.io/en/stable/user_install.html\n",
      "  from tqdm.autonotebook import tqdm, trange\n"
     ]
    },
    {
     "name": "stdout",
     "output_type": "stream",
     "text": [
      "e:\\Github Repositories\\Research-Assistant-LangGraph\\src\n",
      "Index langgraph-research-agent already exists.\n",
      "Index Stats:\n",
      "{'dimension': 384,\n",
      " 'index_fullness': 0.0,\n",
      " 'namespaces': {'': {'vector_count': 4423}},\n",
      " 'total_vector_count': 4423}\n"
     ]
    }
   ],
   "source": [
    "import os\n",
    "\n",
    "from tqdm.autonotebook import tqdm, trange\n",
    "\n",
    "from langchain_groq.chat_models import ChatGroq\n",
    "from langchain_core.prompts import ChatPromptTemplate, MessagesPlaceholder\n",
    "\n",
    "from langchain_core.tools import tool\n",
    "from langchain_core.messages import ToolCall, ToolMessage\n",
    "from langchain_core.agents import AgentAction\n",
    "\n",
    "from typing import TypedDict, Annotated, List\n",
    "from langchain_core.messages import BaseMessage\n",
    "import operator\n",
    "\n",
    "from langgraph.graph import StateGraph, END\n",
    "\n",
    "from IPython.display import Image, display\n",
    "\n",
    "\n",
    "from dotenv import load_dotenv, find_dotenv\n",
    "\n",
    "# Load environment variables from.env file\n",
    "load_dotenv(find_dotenv(), override=True)\n",
    "\n",
    "os.chdir(\"../src\")\n",
    "print(os.getcwd())\n",
    "\n",
    "from tools_agents.tools import (rag_search_filter,\n",
    "                         rag_search,\n",
    "                         fetch_abstract_from_arxiv,\n",
    "                         web_search,\n",
    "                         final_answer)"
   ]
  },
  {
   "cell_type": "code",
   "execution_count": 2,
   "metadata": {},
   "outputs": [],
   "source": [
    "# Create a model\n",
    "llm = ChatGroq(model=\"llama-3.1-70b-versatile\",\n",
    "                      stop_sequences=\"[end]\",\n",
    "                      temperature=0.)"
   ]
  },
  {
   "cell_type": "code",
   "execution_count": 3,
   "metadata": {},
   "outputs": [],
   "source": [
    "# Define the system prompt guiding the AI's decision-making process.\n",
    "system_prompt = (\n",
    "    '''As the AI oracle, your primary role is to make informed decisions based on the user's query and the list of tools at your disposal.\n",
    "    When processing a query, take note of the tools that have already been utilized in the scratchpad. \n",
    "    Avoid reusing a tool that has been previously applied to the same query. \n",
    "    Additionally, refrain from using any tool more than twice; if a tool has already appeared twice in the scratchpad, do not select it again.\n",
    "    Your objective is to gather information from a wide range of sources before providing a response to the user. \n",
    "    Continue to collect and process data until you have accumulated sufficient information to answer the user's question. \n",
    "    Once you have compiled the necessary knowledge in the scratchpad, utilize the final_answer tool to provide a comprehensive response.\n",
    "    Also keep track of different steps taken in terms of tools used in the scratchpad so that it can be used in research_steps in final respone from final_answer tool.\n",
    "    The steps taken should be presented in a numbered list format in research_steps obtainef from the final_answer tool.\n",
    "    Sources in the final_answer tool should also be mentioned in a numbered list format, mentioning the name and link if any of the sources.'''\n",
    ")\n",
    "\n",
    "\n",
    "# Create a prompt template for the conversation flow.\n",
    "prompt = ChatPromptTemplate.from_messages([\n",
    "    ('system', system_prompt),  # Define the AI's role and rules.\n",
    "    \n",
    "    # Insert past chat messages to maintain context.\n",
    "    MessagesPlaceholder(variable_name='chat_history'),\n",
    "    \n",
    "    # Insert user's input dynamically.\n",
    "    ('user', '{input}'),\n",
    "    \n",
    "    # Include the assistant's scratchpad to track tool usage and intermediate steps.\n",
    "    ('assistant', 'scratchpad: {scratchpad}'),\n",
    "])\n"
   ]
  },
  {
   "cell_type": "code",
   "execution_count": 4,
   "metadata": {},
   "outputs": [],
   "source": [
    "# Define the list of tools available to the oracle.\n",
    "tools = [\n",
    "    rag_search_filter,\n",
    "    rag_search,\n",
    "    fetch_abstract_from_arxiv,\n",
    "    web_search,\n",
    "    final_answer\n",
    "]\n",
    "\n",
    "# Function to create the scratchpad from the intermediate tool calls.\n",
    "def create_scratchpad(intermediate_steps: list[ToolCall]) -> str:\n",
    "    research_steps = []\n",
    "    \n",
    "    # Loop over each step and process tool calls with actual outputs.\n",
    "    for i, action in enumerate(intermediate_steps):\n",
    "        if action.log != 'TBD':\n",
    "            research_steps.append(\n",
    "                f'Tool: {action.tool}, input: {action.tool_input}\\n'\n",
    "                f'Output: {action.log}'\n",
    "            )\n",
    "    \n",
    "    # Join the research steps into a readable log.\n",
    "    return '\\n---\\n'.join(research_steps)\n",
    "\n",
    "\n",
    "oracle = (\n",
    "    {\n",
    "        'input': lambda x: x['input'],\n",
    "        'chat_history': lambda x: x['chat_history'],\n",
    "        'scratchpad': lambda x: create_scratchpad(intermediate_steps=x['intermediate_steps']),\n",
    "    }\n",
    "    | prompt\n",
    "    | llm.bind_tools(tools, tool_choice='any')\n",
    ")\n",
    "\n"
   ]
  },
  {
   "cell_type": "code",
   "execution_count": 5,
   "metadata": {},
   "outputs": [
    {
     "data": {
      "text/plain": [
       "{\n",
       "  input: RunnableLambda(...),\n",
       "  chat_history: RunnableLambda(...),\n",
       "  scratchpad: RunnableLambda(...)\n",
       "}\n",
       "| ChatPromptTemplate(input_variables=['chat_history', 'input', 'scratchpad'], input_types={'chat_history': list[typing.Annotated[typing.Union[typing.Annotated[langchain_core.messages.ai.AIMessage, Tag(tag='ai')], typing.Annotated[langchain_core.messages.human.HumanMessage, Tag(tag='human')], typing.Annotated[langchain_core.messages.chat.ChatMessage, Tag(tag='chat')], typing.Annotated[langchain_core.messages.system.SystemMessage, Tag(tag='system')], typing.Annotated[langchain_core.messages.function.FunctionMessage, Tag(tag='function')], typing.Annotated[langchain_core.messages.tool.ToolMessage, Tag(tag='tool')], typing.Annotated[langchain_core.messages.ai.AIMessageChunk, Tag(tag='AIMessageChunk')], typing.Annotated[langchain_core.messages.human.HumanMessageChunk, Tag(tag='HumanMessageChunk')], typing.Annotated[langchain_core.messages.chat.ChatMessageChunk, Tag(tag='ChatMessageChunk')], typing.Annotated[langchain_core.messages.system.SystemMessageChunk, Tag(tag='SystemMessageChunk')], typing.Annotated[langchain_core.messages.function.FunctionMessageChunk, Tag(tag='FunctionMessageChunk')], typing.Annotated[langchain_core.messages.tool.ToolMessageChunk, Tag(tag='ToolMessageChunk')]], FieldInfo(annotation=NoneType, required=True, discriminator=Discriminator(discriminator=<function _get_type at 0x000001A96390CD30>, custom_error_type=None, custom_error_message=None, custom_error_context=None))]]}, partial_variables={}, messages=[SystemMessagePromptTemplate(prompt=PromptTemplate(input_variables=[], input_types={}, partial_variables={}, template=\"As the AI oracle, your primary role is to make informed decisions based on the user's query and the list of tools at your disposal.\\n    When processing a query, take note of the tools that have already been utilized in the scratchpad. \\n    Avoid reusing a tool that has been previously applied to the same query. \\n    Additionally, refrain from using any tool more than twice; if a tool has already appeared twice in the scratchpad, do not select it again.\\n    Your objective is to gather information from a wide range of sources before providing a response to the user. \\n    Continue to collect and process data until you have accumulated sufficient information to answer the user's question. \\n    Once you have compiled the necessary knowledge in the scratchpad, utilize the final_answer tool to provide a comprehensive response.\\n    Also keep track of different steps taken in terms of tools used in the scratchpad so that it can be used in research_steps in final respone from final_answer tool.\\n    The steps taken should be presented in a numbered list format in research_steps obtainef from the final_answer tool.\\n    Sources in the final_answer tool should also be mentioned in a numbered list format, mentioning the name and link if any of the sources.\"), additional_kwargs={}), MessagesPlaceholder(variable_name='chat_history'), HumanMessagePromptTemplate(prompt=PromptTemplate(input_variables=['input'], input_types={}, partial_variables={}, template='{input}'), additional_kwargs={}), AIMessagePromptTemplate(prompt=PromptTemplate(input_variables=['scratchpad'], input_types={}, partial_variables={}, template='scratchpad: {scratchpad}'), additional_kwargs={})])\n",
       "| RunnableBinding(bound=ChatGroq(client=<groq.resources.chat.completions.Completions object at 0x000001A921A9D960>, async_client=<groq.resources.chat.completions.AsyncCompletions object at 0x000001A921A9E620>, model_name='llama-3.1-70b-versatile', temperature=1e-08, stop='[end]', model_kwargs={}, groq_api_key=SecretStr('**********')), kwargs={'tools': [{'type': 'function', 'function': {'name': 'rag_search_filter', 'description': 'Finds information from the ArXiv database using a natural language query and a specific ArXiv ID.\\n\\n    Args:\\n        query (str): The search query in natural language.\\n        arxiv_id (str): The ArXiv ID of the specific paper to filter by.\\n\\n    Returns:\\n        str: A formatted string of relevant document contexts.', 'parameters': {'properties': {'query': {'type': 'string'}, 'arxiv_id': {'type': 'string'}}, 'required': ['query', 'arxiv_id'], 'type': 'object'}}}, {'type': 'function', 'function': {'name': 'rag_search', 'description': 'Finds information from the ArXiv database using a natural language query.\\nArgs:\\n    query (str): The search query in natural language.\\nReturns:\\n    str: A formatted string of relevant document contexts.', 'parameters': {'properties': {'query': {'type': 'string'}}, 'required': ['query'], 'type': 'object'}}}, {'type': 'function', 'function': {'name': 'fetch_abstract_from_arxiv', 'description': 'Fetches the abstract of the paper with the specified arXiv ID.\\nArgs:\\n    arxiv_id (str): The arXiv ID of the paper.\\nReturns:\\n    str: The abstract of the paper, or an error message if not found.', 'parameters': {'properties': {'arxiv_id': {'type': 'string'}}, 'required': ['arxiv_id'], 'type': 'object'}}}, {'type': 'function', 'function': {'name': 'web_search', 'description': 'Finds general knowledge information using a Tavily search.\\nArgs:\\n    query (str): The search query string.\\n\\nReturns:\\n    str: A formatted string of the top search results, including title, content, and url.', 'parameters': {'properties': {'query': {'type': 'string'}}, 'required': ['query'], 'type': 'object'}}}, {'type': 'function', 'function': {'name': 'final_answer', 'description': \"Constructs a final research report from the provided introduction, research steps, main body, conclusion, and sources.\\nArgs:\\n    introduction (str): A brief introduction to the research report, introducing the user's question and topic.\\n    research_steps (str | list): The steps taken in the research process, either as a string or a list of strings.\\n    main_body (str): The main body of the research report.\\n    conclusion (str): The conclusion drawn from the research process.\\n    sources (str | list): The sources used in the research, either as a string or a list of strings.\\nReturns:\\n    str: The final research report as a string.\", 'parameters': {'properties': {'introduction': {'type': 'string'}, 'research_steps': {'anyOf': [{'type': 'string'}, {'items': {}, 'type': 'array'}]}, 'main_body': {'type': 'string'}, 'conclusion': {'type': 'string'}, 'sources': {'anyOf': [{'type': 'string'}, {'items': {}, 'type': 'array'}]}}, 'required': ['introduction', 'research_steps', 'main_body', 'conclusion', 'sources'], 'type': 'object'}}}], 'tool_choice': 'required'}, config={}, config_factories=[])"
      ]
     },
     "execution_count": 5,
     "metadata": {},
     "output_type": "execute_result"
    }
   ],
   "source": [
    "oracle"
   ]
  },
  {
   "cell_type": "code",
   "execution_count": 6,
   "metadata": {},
   "outputs": [
    {
     "name": "stdout",
     "output_type": "stream",
     "text": [
      "content='' additional_kwargs={'tool_calls': [{'id': 'call_qtbt', 'function': {'arguments': '{\"query\": \"Olympics 2024 location\"}', 'name': 'web_search'}, 'type': 'function'}]} response_metadata={'token_usage': {'completion_tokens': 18, 'prompt_tokens': 1443, 'total_tokens': 1461, 'completion_time': 0.072, 'prompt_time': 0.305066513, 'queue_time': 0.06989730999999999, 'total_time': 0.377066513}, 'model_name': 'llama-3.1-70b-versatile', 'system_fingerprint': 'fp_b3ae7e594e', 'finish_reason': 'tool_calls', 'logprobs': None} id='run-de7a7190-ef2d-4d26-8d5c-a6a90341f6f6-0' tool_calls=[{'name': 'web_search', 'args': {'query': 'Olympics 2024 location'}, 'id': 'call_qtbt', 'type': 'tool_call'}] usage_metadata={'input_tokens': 1443, 'output_tokens': 18, 'total_tokens': 1461}\n"
     ]
    }
   ],
   "source": [
    "# input = 'Tell me about natural language processing and large language models from arxiv?'\n",
    "input = 'Where were olymics 2024 held?'\n",
    "# input = 'What is the ArXiv paper with the ID 2401.04155v1 all about?'\n",
    "\n",
    "inputs = {\n",
    "    'input': input,\n",
    "    'chat_history': [],\n",
    "    'intermediate_steps': [],\n",
    "}\n",
    "\n",
    "\n",
    "out = oracle.invoke(inputs)\n",
    "\n",
    "print(out)\n"
   ]
  },
  {
   "cell_type": "code",
   "execution_count": 7,
   "metadata": {},
   "outputs": [
    {
     "data": {
      "text/plain": [
       "('web_search', {'query': 'Olympics 2024 location'})"
      ]
     },
     "execution_count": 7,
     "metadata": {},
     "output_type": "execute_result"
    }
   ],
   "source": [
    "out.tool_calls[0]['name'], out.tool_calls[0]['args']"
   ]
  },
  {
   "cell_type": "markdown",
   "metadata": {},
   "source": [
    "## Decision Making "
   ]
  },
  {
   "cell_type": "code",
   "execution_count": 8,
   "metadata": {},
   "outputs": [],
   "source": [
    "def run_oracle(state: dict) -> dict:\n",
    "    print('run_oracle')\n",
    "    print(f'intermediate_steps: {state[\"intermediate_steps\"]}')\n",
    "    print(state)\n",
    "    \n",
    "    out = oracle.invoke(state)\n",
    "    print(out)\n",
    "\n",
    "    tool_name = out.tool_calls[0]['name']\n",
    "    tool_args = out.tool_calls[0]['args']\n",
    "\n",
    "    print(f'tool_name: {tool_name}')\n",
    "    print(f'tool_args: {tool_args}')\n",
    "\n",
    "    action_out = AgentAction(\n",
    "        tool=tool_name,\n",
    "        tool_input=tool_args,\n",
    "        log='TBD'  # To be determined later after the tool runs.\n",
    "    )\n",
    "\n",
    "    return {'intermediate_steps': [action_out]}\n",
    "\n",
    "\n",
    "# router() function\n",
    "def router(state: dict) -> str:\n",
    "\n",
    "    if isinstance(state['intermediate_steps'], list):\n",
    "        print(f\"running tool: {state['intermediate_steps'][-1].tool}\")\n",
    "        return state['intermediate_steps'][-1].tool\n",
    "    else:\n",
    "        print('Router invalid format')\n",
    "        return 'final_answer'\n",
    "\n",
    "\n",
    "tool_str_to_func = {\n",
    "    'rag_search_filter': rag_search_filter,\n",
    "    'rag_search': rag_search,\n",
    "    'fetch_abstract_from_arxiv': fetch_abstract_from_arxiv,\n",
    "    'web_search': web_search,\n",
    "    'final_answer': final_answer\n",
    "}\n",
    "\n",
    "# The run_tool() function executes the appropriate tool based on the current state.\n",
    "def run_tool(state: dict) -> dict:\n",
    "\n",
    "    tool_name = state['intermediate_steps'][-1].tool\n",
    "    tool_args = state['intermediate_steps'][-1].tool_input\n",
    "\n",
    "    print(f'{tool_name}.invoke(input={tool_args})')\n",
    "\n",
    "    out = tool_str_to_func[tool_name].invoke(input=tool_args)\n",
    "\n",
    "    action_out = AgentAction(\n",
    "        tool=tool_name,\n",
    "        tool_input=tool_args,\n",
    "        log=str(out)\n",
    "    )\n",
    "\n",
    "    return {'intermediate_steps': [action_out]}"
   ]
  },
  {
   "cell_type": "markdown",
   "metadata": {},
   "source": [
    "## Building the Graph"
   ]
  },
  {
   "cell_type": "code",
   "execution_count": 9,
   "metadata": {},
   "outputs": [],
   "source": [
    "class AgentState(TypedDict):\n",
    "    input: str\n",
    "    chat_history: List[BaseMessage]\n",
    "    intermediate_steps: Annotated[List[tuple[AgentAction, str]], operator.add]"
   ]
  },
  {
   "cell_type": "code",
   "execution_count": 10,
   "metadata": {},
   "outputs": [],
   "source": [
    "workflow = StateGraph(AgentState)\n",
    "\n",
    "workflow.add_node('oracle', run_oracle)\n",
    "workflow.add_node('rag_search', run_tool)\n",
    "workflow.add_node('rag_search_filter', run_tool)\n",
    "workflow.add_node('web_search', run_tool)\n",
    "workflow.add_node('fetch_abstract_from_arxiv', run_tool)\n",
    "workflow.add_node('final_answer', run_tool)\n",
    "\n",
    "\n",
    "workflow.set_entry_point('oracle')\n",
    "workflow.add_conditional_edges(source='oracle',\n",
    "                               path=router)\n",
    "\n",
    "for tool_object in tools:\n",
    "    if tool_object.name != 'final_answer':\n",
    "        workflow.add_edge(tool_object.name, 'oracle')\n",
    "\n",
    "workflow.add_edge('final_answer', END)\n",
    "\n",
    "graph = workflow.compile()"
   ]
  },
  {
   "cell_type": "code",
   "execution_count": 11,
   "metadata": {},
   "outputs": [
    {
     "data": {
      "image/jpeg": "[encoded data removed]",
      "text/plain": [
       "<IPython.core.display.Image object>"
      ]
     },
     "metadata": {},
     "output_type": "display_data"
    }
   ],
   "source": [
    "\n",
    "display(Image(graph.get_graph().draw_mermaid_png()))"
   ]
  },
  {
   "cell_type": "code",
   "execution_count": 12,
   "metadata": {},
   "outputs": [],
   "source": [
    "# output = graph.invoke({\n",
    "#     'input': 'tell me about NLP and LLMs from rag?',\n",
    "#     'chat_history': [],\n",
    "# })"
   ]
  },
  {
   "cell_type": "code",
   "execution_count": 13,
   "metadata": {},
   "outputs": [],
   "source": [
    "def build_report(output: dict) -> str:\n",
    "    \n",
    "    research_steps = output['research_steps']\n",
    "    if isinstance(research_steps, list):\n",
    "        research_steps = '\\n'.join([f'- {r}' for r in research_steps])\n",
    "    \n",
    "    sources = output['sources']\n",
    "    if isinstance(sources, list):\n",
    "        sources = '\\n'.join([f'- {s}' for s in sources])\n",
    "    \n",
    "    return f\"\"\"\n",
    "        INTRODUCTION\n",
    "        ------------\n",
    "        {output['introduction']}\n",
    "        \n",
    "        RESEARCH STEPS\n",
    "        --------------\n",
    "        {research_steps}\n",
    "        \n",
    "        REPORT\n",
    "        ------\n",
    "        {output['main_body']}\n",
    "        \n",
    "        CONCLUSION\n",
    "        ----------\n",
    "        {output['conclusion']}\n",
    "        \n",
    "        SOURCES\n",
    "        -------\n",
    "        {sources}\n",
    "    \"\"\"\n"
   ]
  },
  {
   "cell_type": "code",
   "execution_count": 16,
   "metadata": {},
   "outputs": [
    {
     "name": "stdout",
     "output_type": "stream",
     "text": [
      "run_oracle\n",
      "intermediate_steps: []\n",
      "{'input': 'tell me about large language models in some detail?', 'chat_history': [], 'intermediate_steps': []}\n",
      "content='' additional_kwargs={'tool_calls': [{'id': 'call_akqq', 'function': {'arguments': '{\"query\": \"large language models\"}', 'name': 'web_search'}, 'type': 'function'}]} response_metadata={'token_usage': {'completion_tokens': 14, 'prompt_tokens': 2883, 'total_tokens': 2897, 'completion_time': 0.056, 'prompt_time': 0.57047439, 'queue_time': -0.643569309, 'total_time': 0.62647439}, 'model_name': 'llama-3.1-70b-versatile', 'system_fingerprint': 'fp_5c5d1b5cfb', 'finish_reason': 'tool_calls', 'logprobs': None} id='run-aeea70e5-c2d5-4c5e-adc8-91e756144f35-0' tool_calls=[{'name': 'web_search', 'args': {'query': 'large language models'}, 'id': 'call_akqq', 'type': 'tool_call'}] usage_metadata={'input_tokens': 2883, 'output_tokens': 14, 'total_tokens': 2897}\n",
      "tool_name: web_search\n",
      "tool_args: {'query': 'large language models'}\n",
      "running tool: web_search\n",
      "web_search.invoke(input={'query': 'large language models'})\n",
      "web search tool called\n",
      "run_oracle\n",
      "intermediate_steps: [AgentAction(tool='web_search', tool_input={'query': 'large language models'}, log='TBD'), AgentAction(tool='web_search', tool_input={'query': 'large language models'}, log='[2307.06435] A Comprehensive Overview of Large Language Models - arXiv.org\\nLarge Language Models (LLMs) have recently demonstrated remarkable capabilities in natural language processing tasks and beyond. This success of LLMs has led to a large influx of research contributions in this direction. These works encompass diverse topics such as architectural innovations, better training strategies, context length improvements, fine-tuning, multi-modal LLMs, robotics\\nhttps://arxiv.org/abs/2307.06435\\n---\\nA Review on Large Language Models: Architectures, Applications ...\\nLarge Language Models (LLMs) recently demonstrated extraordinary capability in various natural language processing (NLP) tasks including language translation, text generation, question answering, etc. Moreover, LLMs are new and essential part of computerized language processing, having the ability to understand complex verbal patterns and generate coherent and appropriate replies in a given\\nhttps://ieeexplore.ieee.org/document/10433480\\n---\\nWhat are Large Language Models? - NVIDIA\\nChatbot (e.g., open-domain Q+A, virtual assistants)\\nEnterprises across the world are starting to leverage LLMs to unlock new possibilities:\\nLarge language models are still in their early days, and their promise is enormous; a single model with zero-shot learning capabilities can solve nearly every imaginable problem by understanding and generating human-like thoughts instantaneously. NVIDIA offers tools to ease the building and deployment of large language models:\\nDespite the challenges, the promise of large language models is enormous. There are several classes of large language models that are suited for different types of use cases:\\nWhat are the Challenges of Large Language Models?\\n This representation of what parts of the input the neural network needs to pay attention to is learnt over time as the model sifts and analyzes mountains of data.\\n The significant capital investment, large datasets, technical expertise, and large-scale compute infrastructure necessary to develop and maintain large language models have been a barrier to entry for most enterprises.\\n\\nhttps://www.nvidia.com/en-us/glossary/large-language-models/\\n---\\nWhat Are Large Language Models (LLMs)? | IBM\\nAI governance and traceability are also fundamental aspects of the solutions IBM brings to its customers, so that activities that involve AI are managed and monitored to allow for tracing origins, data and models in a way that is always auditable and accountable.\\n LLMs have become a household name thanks to the role they have played in bringing generative AI to the forefront of the public interest, as well as the point on which organizations are focusing to adopt artificial intelligence across numerous business functions and use cases.\\n Large language models (LLMs) are a category of foundation models trained on immense amounts of data making them capable of understanding and generating natural language and other types of content to perform a wide range of tasks.\\n This is in stark contrast to the idea of building and training domain specific models for each of these use cases individually, which is prohibitive under many criteria (most importantly cost and infrastructure), stifles synergies and can even lead to inferior performance.\\n In a nutshell, LLMs are designed to understand and generate text like a human, in addition to other forms of content, based on the vast amount of data used to train them.\\nhttps://www.ibm.com/topics/large-language-models\\n---\\nLarge language model - Wikipedia\\n\"[80][81]\\nIn contrast, some proponents of the \"LLMs lack understanding\" school believe that existing LLMs are \"simply remixing and recombining existing writing\",[79] or point to the deficits existing LLMs continue to have in prediction skills, reasoning skills, agency, and explainability.[75] For example, GPT-4 has natural deficits in planning and in real-time learning.[77] Generative LLMs have been observed to confidently assert claims of fact which do not seem to be justified by their training data, a phenomenon which has been termed \"hallucination\".[82] Specifically, hallucinations in the context of LLMs correspond to the generation of text or responses that seem syntactically sound, fluent, and natural but are factually incorrect, nonsensical, or unfaithful to the provided source input.[83] Because of the rapid pace of improvement of large language models, evaluation benchmarks have suffered from short lifespans, with state of the art models quickly \"saturating\" existing benchmarks, exceeding the performance of human annotators, leading to efforts to replace or augment the benchmark with more challenging tasks.[88] In addition, there are cases of \"shortcut learning\" wherein AIs sometimes \"cheat\" on multiple-choice tests by using statistical correlations in superficial test question wording in order to guess the correct responses, without necessarily understanding the actual question being asked.[75]\\nSome datasets have been constructed adversarially, focusing on particular problems on which extant language models seem to have unusually poor performance compared to humans. The linguistic description of the environment given to the LLM planner can even be the LaTeX code of a paper describing the environment.[37]\\nIn the DEPS (\"Describe, Explain, Plan and Select\") method, an LLM is first connected to the visual world via image descriptions, then it is prompted to produce plans for complex tasks and behaviors based on its pretrained knowledge and environmental feedback it receives.[38]\\nThe Reflexion method[39] constructs an agent that learns over multiple episodes. One broad category of evaluation dataset is question answering datasets, consisting of pairs of questions and correct answers, for example, (\"Have the San Jose Sharks won the Stanley Cup?\", \"No\").[85] A question answering task is considered \"open book\" if the model\\'s prompt includes text from which the expected answer can be derived (for example, the previous question could be adjoined with some text which includes the sentence \"The Sharks have advanced to the Stanley Cup finals once, losing to the Pittsburgh Penguins in 2016.\"[85]). The authors considered a toy statistical model of an LLM solving multiple-choice questions, and showed that this statistical model, modified to account for other types of tasks, applies to these tasks as well.[70]\\nLet\\nx\\n{\\\\displaystyle x}\\nbe the number of parameter count, and\\ny\\n{\\\\displaystyle y}\\nbe the performance of the model.\\n\\nhttps://en.wikipedia.org/wiki/Large_language_model')]\n",
      "{'input': 'tell me about large language models in some detail?', 'chat_history': [], 'intermediate_steps': [AgentAction(tool='web_search', tool_input={'query': 'large language models'}, log='TBD'), AgentAction(tool='web_search', tool_input={'query': 'large language models'}, log='[2307.06435] A Comprehensive Overview of Large Language Models - arXiv.org\\nLarge Language Models (LLMs) have recently demonstrated remarkable capabilities in natural language processing tasks and beyond. This success of LLMs has led to a large influx of research contributions in this direction. These works encompass diverse topics such as architectural innovations, better training strategies, context length improvements, fine-tuning, multi-modal LLMs, robotics\\nhttps://arxiv.org/abs/2307.06435\\n---\\nA Review on Large Language Models: Architectures, Applications ...\\nLarge Language Models (LLMs) recently demonstrated extraordinary capability in various natural language processing (NLP) tasks including language translation, text generation, question answering, etc. Moreover, LLMs are new and essential part of computerized language processing, having the ability to understand complex verbal patterns and generate coherent and appropriate replies in a given\\nhttps://ieeexplore.ieee.org/document/10433480\\n---\\nWhat are Large Language Models? - NVIDIA\\nChatbot (e.g., open-domain Q+A, virtual assistants)\\nEnterprises across the world are starting to leverage LLMs to unlock new possibilities:\\nLarge language models are still in their early days, and their promise is enormous; a single model with zero-shot learning capabilities can solve nearly every imaginable problem by understanding and generating human-like thoughts instantaneously. NVIDIA offers tools to ease the building and deployment of large language models:\\nDespite the challenges, the promise of large language models is enormous. There are several classes of large language models that are suited for different types of use cases:\\nWhat are the Challenges of Large Language Models?\\n This representation of what parts of the input the neural network needs to pay attention to is learnt over time as the model sifts and analyzes mountains of data.\\n The significant capital investment, large datasets, technical expertise, and large-scale compute infrastructure necessary to develop and maintain large language models have been a barrier to entry for most enterprises.\\n\\nhttps://www.nvidia.com/en-us/glossary/large-language-models/\\n---\\nWhat Are Large Language Models (LLMs)? | IBM\\nAI governance and traceability are also fundamental aspects of the solutions IBM brings to its customers, so that activities that involve AI are managed and monitored to allow for tracing origins, data and models in a way that is always auditable and accountable.\\n LLMs have become a household name thanks to the role they have played in bringing generative AI to the forefront of the public interest, as well as the point on which organizations are focusing to adopt artificial intelligence across numerous business functions and use cases.\\n Large language models (LLMs) are a category of foundation models trained on immense amounts of data making them capable of understanding and generating natural language and other types of content to perform a wide range of tasks.\\n This is in stark contrast to the idea of building and training domain specific models for each of these use cases individually, which is prohibitive under many criteria (most importantly cost and infrastructure), stifles synergies and can even lead to inferior performance.\\n In a nutshell, LLMs are designed to understand and generate text like a human, in addition to other forms of content, based on the vast amount of data used to train them.\\nhttps://www.ibm.com/topics/large-language-models\\n---\\nLarge language model - Wikipedia\\n\"[80][81]\\nIn contrast, some proponents of the \"LLMs lack understanding\" school believe that existing LLMs are \"simply remixing and recombining existing writing\",[79] or point to the deficits existing LLMs continue to have in prediction skills, reasoning skills, agency, and explainability.[75] For example, GPT-4 has natural deficits in planning and in real-time learning.[77] Generative LLMs have been observed to confidently assert claims of fact which do not seem to be justified by their training data, a phenomenon which has been termed \"hallucination\".[82] Specifically, hallucinations in the context of LLMs correspond to the generation of text or responses that seem syntactically sound, fluent, and natural but are factually incorrect, nonsensical, or unfaithful to the provided source input.[83] Because of the rapid pace of improvement of large language models, evaluation benchmarks have suffered from short lifespans, with state of the art models quickly \"saturating\" existing benchmarks, exceeding the performance of human annotators, leading to efforts to replace or augment the benchmark with more challenging tasks.[88] In addition, there are cases of \"shortcut learning\" wherein AIs sometimes \"cheat\" on multiple-choice tests by using statistical correlations in superficial test question wording in order to guess the correct responses, without necessarily understanding the actual question being asked.[75]\\nSome datasets have been constructed adversarially, focusing on particular problems on which extant language models seem to have unusually poor performance compared to humans. The linguistic description of the environment given to the LLM planner can even be the LaTeX code of a paper describing the environment.[37]\\nIn the DEPS (\"Describe, Explain, Plan and Select\") method, an LLM is first connected to the visual world via image descriptions, then it is prompted to produce plans for complex tasks and behaviors based on its pretrained knowledge and environmental feedback it receives.[38]\\nThe Reflexion method[39] constructs an agent that learns over multiple episodes. One broad category of evaluation dataset is question answering datasets, consisting of pairs of questions and correct answers, for example, (\"Have the San Jose Sharks won the Stanley Cup?\", \"No\").[85] A question answering task is considered \"open book\" if the model\\'s prompt includes text from which the expected answer can be derived (for example, the previous question could be adjoined with some text which includes the sentence \"The Sharks have advanced to the Stanley Cup finals once, losing to the Pittsburgh Penguins in 2016.\"[85]). The authors considered a toy statistical model of an LLM solving multiple-choice questions, and showed that this statistical model, modified to account for other types of tasks, applies to these tasks as well.[70]\\nLet\\nx\\n{\\\\displaystyle x}\\nbe the number of parameter count, and\\ny\\n{\\\\displaystyle y}\\nbe the performance of the model.\\n\\nhttps://en.wikipedia.org/wiki/Large_language_model')]}\n",
      "content='' additional_kwargs={'tool_calls': [{'id': 'call_vydk', 'function': {'arguments': '{\"introduction\": \"Large language models (LLMs) have recently demonstrated remarkable capabilities in natural language processing tasks and beyond. This success of LLMs has led to a large influx of research contributions in this direction. These works encompass diverse topics such as architectural innovations, better training strategies, context length improvements, fine-tuning, multi-modal LLMs, robotics\", \"research_steps\": \"[1] Web search to gather information on large language models\", \"main_body\": \"Large language models are a category of foundation models trained on immense amounts of data making them capable of understanding and generating natural language and other types of content to perform a wide range of tasks. They have become a household name thanks to the role they have played in bringing generative AI to the forefront of the public interest, as well as the point on which organizations are focusing to adopt artificial intelligence across numerous business functions and use cases. LLMs are designed to understand and generate text like a human, in addition to other forms of content, based on the vast amount of data used to train them. Despite the challenges, the promise of large language models is enormous. There are several classes of large language models that are suited for different types of use cases. However, some proponents of the \", \"conclusion\": \"In conclusion, large language models have the potential to revolutionize the way we interact with technology and access information. While there are still challenges to be addressed, the promise of LLMs is enormous and they are likely to play a major role in shaping the future of artificial intelligence.\", \"sources\": \"[1] A Comprehensive Overview of Large Language Models - arXiv.org [2] A Review on Large Language Models: Architectures, Applications ... [3] What are Large Language Models? - NVIDIA [4] What Are Large Language Models (LLMs)? | IBM [5] Large language model - Wikipedia\"}', 'name': 'final_answer'}, 'type': 'function'}]} response_metadata={'token_usage': {'completion_tokens': 387, 'prompt_tokens': 5475, 'total_tokens': 5862, 'completion_time': 1.548, 'prompt_time': 0.955156909, 'queue_time': -1.211811103, 'total_time': 2.503156909}, 'model_name': 'llama-3.1-70b-versatile', 'system_fingerprint': 'fp_b6828be2c9', 'finish_reason': 'tool_calls', 'logprobs': None} id='run-c3c6bfbd-0633-4cf7-998a-c866a4ad6fb7-0' tool_calls=[{'name': 'final_answer', 'args': {'introduction': 'Large language models (LLMs) have recently demonstrated remarkable capabilities in natural language processing tasks and beyond. This success of LLMs has led to a large influx of research contributions in this direction. These works encompass diverse topics such as architectural innovations, better training strategies, context length improvements, fine-tuning, multi-modal LLMs, robotics', 'research_steps': '[1] Web search to gather information on large language models', 'main_body': 'Large language models are a category of foundation models trained on immense amounts of data making them capable of understanding and generating natural language and other types of content to perform a wide range of tasks. They have become a household name thanks to the role they have played in bringing generative AI to the forefront of the public interest, as well as the point on which organizations are focusing to adopt artificial intelligence across numerous business functions and use cases. LLMs are designed to understand and generate text like a human, in addition to other forms of content, based on the vast amount of data used to train them. Despite the challenges, the promise of large language models is enormous. There are several classes of large language models that are suited for different types of use cases. However, some proponents of the ', 'conclusion': 'In conclusion, large language models have the potential to revolutionize the way we interact with technology and access information. While there are still challenges to be addressed, the promise of LLMs is enormous and they are likely to play a major role in shaping the future of artificial intelligence.', 'sources': '[1] A Comprehensive Overview of Large Language Models - arXiv.org [2] A Review on Large Language Models: Architectures, Applications ... [3] What are Large Language Models? - NVIDIA [4] What Are Large Language Models (LLMs)? | IBM [5] Large language model - Wikipedia'}, 'id': 'call_vydk', 'type': 'tool_call'}] usage_metadata={'input_tokens': 5475, 'output_tokens': 387, 'total_tokens': 5862}\n",
      "tool_name: final_answer\n",
      "tool_args: {'introduction': 'Large language models (LLMs) have recently demonstrated remarkable capabilities in natural language processing tasks and beyond. This success of LLMs has led to a large influx of research contributions in this direction. These works encompass diverse topics such as architectural innovations, better training strategies, context length improvements, fine-tuning, multi-modal LLMs, robotics', 'research_steps': '[1] Web search to gather information on large language models', 'main_body': 'Large language models are a category of foundation models trained on immense amounts of data making them capable of understanding and generating natural language and other types of content to perform a wide range of tasks. They have become a household name thanks to the role they have played in bringing generative AI to the forefront of the public interest, as well as the point on which organizations are focusing to adopt artificial intelligence across numerous business functions and use cases. LLMs are designed to understand and generate text like a human, in addition to other forms of content, based on the vast amount of data used to train them. Despite the challenges, the promise of large language models is enormous. There are several classes of large language models that are suited for different types of use cases. However, some proponents of the ', 'conclusion': 'In conclusion, large language models have the potential to revolutionize the way we interact with technology and access information. While there are still challenges to be addressed, the promise of LLMs is enormous and they are likely to play a major role in shaping the future of artificial intelligence.', 'sources': '[1] A Comprehensive Overview of Large Language Models - arXiv.org [2] A Review on Large Language Models: Architectures, Applications ... [3] What are Large Language Models? - NVIDIA [4] What Are Large Language Models (LLMs)? | IBM [5] Large language model - Wikipedia'}\n",
      "running tool: final_answer\n",
      "final_answer.invoke(input={'introduction': 'Large language models (LLMs) have recently demonstrated remarkable capabilities in natural language processing tasks and beyond. This success of LLMs has led to a large influx of research contributions in this direction. These works encompass diverse topics such as architectural innovations, better training strategies, context length improvements, fine-tuning, multi-modal LLMs, robotics', 'research_steps': '[1] Web search to gather information on large language models', 'main_body': 'Large language models are a category of foundation models trained on immense amounts of data making them capable of understanding and generating natural language and other types of content to perform a wide range of tasks. They have become a household name thanks to the role they have played in bringing generative AI to the forefront of the public interest, as well as the point on which organizations are focusing to adopt artificial intelligence across numerous business functions and use cases. LLMs are designed to understand and generate text like a human, in addition to other forms of content, based on the vast amount of data used to train them. Despite the challenges, the promise of large language models is enormous. There are several classes of large language models that are suited for different types of use cases. However, some proponents of the ', 'conclusion': 'In conclusion, large language models have the potential to revolutionize the way we interact with technology and access information. While there are still challenges to be addressed, the promise of LLMs is enormous and they are likely to play a major role in shaping the future of artificial intelligence.', 'sources': '[1] A Comprehensive Overview of Large Language Models - arXiv.org [2] A Review on Large Language Models: Architectures, Applications ... [3] What are Large Language Models? - NVIDIA [4] What Are Large Language Models (LLMs)? | IBM [5] Large language model - Wikipedia'})\n"
     ]
    }
   ],
   "source": [
    "output = graph.invoke({\n",
    "    'input': 'tell me about large language models in some detail?',\n",
    "    'chat_history': [],\n",
    "})"
   ]
  },
  {
   "cell_type": "code",
   "execution_count": 17,
   "metadata": {},
   "outputs": [
    {
     "name": "stdout",
     "output_type": "stream",
     "text": [
      "\n",
      "        INTRODUCTION\n",
      "        ------------\n",
      "        Large language models (LLMs) have recently demonstrated remarkable capabilities in natural language processing tasks and beyond. This success of LLMs has led to a large influx of research contributions in this direction. These works encompass diverse topics such as architectural innovations, better training strategies, context length improvements, fine-tuning, multi-modal LLMs, robotics\n",
      "        \n",
      "        RESEARCH STEPS\n",
      "        --------------\n",
      "        [1] Web search to gather information on large language models\n",
      "        \n",
      "        REPORT\n",
      "        ------\n",
      "        Large language models are a category of foundation models trained on immense amounts of data making them capable of understanding and generating natural language and other types of content to perform a wide range of tasks. They have become a household name thanks to the role they have played in bringing generative AI to the forefront of the public interest, as well as the point on which organizations are focusing to adopt artificial intelligence across numerous business functions and use cases. LLMs are designed to understand and generate text like a human, in addition to other forms of content, based on the vast amount of data used to train them. Despite the challenges, the promise of large language models is enormous. There are several classes of large language models that are suited for different types of use cases. However, some proponents of the \n",
      "        \n",
      "        CONCLUSION\n",
      "        ----------\n",
      "        In conclusion, large language models have the potential to revolutionize the way we interact with technology and access information. While there are still challenges to be addressed, the promise of LLMs is enormous and they are likely to play a major role in shaping the future of artificial intelligence.\n",
      "        \n",
      "        SOURCES\n",
      "        -------\n",
      "        [1] A Comprehensive Overview of Large Language Models - arXiv.org [2] A Review on Large Language Models: Architectures, Applications ... [3] What are Large Language Models? - NVIDIA [4] What Are Large Language Models (LLMs)? | IBM [5] Large language model - Wikipedia\n",
      "    \n"
     ]
    }
   ],
   "source": [
    "print(build_report(output['intermediate_steps'][-1].tool_input ))"
   ]
  }
 ],
 "metadata": {
  "kernelspec": {
   "display_name": ".venv",
   "language": "python",
   "name": "python3"
  },
  "language_info": {
   "codemirror_mode": {
    "name": "ipython",
    "version": 3
   },
   "file_extension": ".py",
   "mimetype": "text/x-python",
   "name": "python",
   "nbconvert_exporter": "python",
   "pygments_lexer": "ipython3",
   "version": "3.10.0"
  }
 },
 "nbformat": 4,
 "nbformat_minor": 2
}
