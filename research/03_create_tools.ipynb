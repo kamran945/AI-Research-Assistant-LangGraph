{
 "cells": [
  {
   "cell_type": "code",
   "execution_count": 10,
   "metadata": {},
   "outputs": [],
   "source": [
    "import os\n",
    "import sys\n",
    "# sys.path.append(os.path.abspath(\"../src\"))\n",
    "sys.path.append(\"../src\")"
   ]
  },
  {
   "cell_type": "code",
   "execution_count": null,
   "metadata": {},
   "outputs": [
    {
     "name": "stderr",
     "output_type": "stream",
     "text": [
      "C:\\Users\\kamran\\AppData\\Local\\Temp\\ipykernel_24692\\2975920699.py:6: TqdmWarning: IProgress not found. Please update jupyter and ipywidgets. See https://ipywidgets.readthedocs.io/en/stable/user_install.html\n",
      "  from tqdm.autonotebook import tqdm, trange\n"
     ]
    },
    {
     "name": "stdout",
     "output_type": "stream",
     "text": [
      "e:\\Github Repositories\\Research-Assistant-LangGraph\\src\\vectordb\n"
     ]
    },
    {
     "data": {
      "text/plain": [
       "True"
      ]
     },
     "execution_count": 1,
     "metadata": {},
     "output_type": "execute_result"
    }
   ],
   "source": [
    "import os\n",
    "import sys\n",
    "import requests\n",
    "import re\n",
    "\n",
    "from tqdm.autonotebook import tqdm, trange\n",
    "\n",
    "from langchain_huggingface import HuggingFaceEmbeddings\n",
    "from langchain_core.tools import tool\n",
    "from langchain_community.tools.tavily_search import TavilySearchResults\n",
    "from tavily import TavilyClient\n",
    "\n",
    "# os.chdir(\"../src/vectordb\")\n",
    "print(os.getcwd())\n",
    "from vectordb.create_vectordb import PinconeVectorDb\n",
    "\n",
    "from dotenv import load_dotenv, find_dotenv\n",
    "\n",
    "# Load environment variables from.env file\n",
    "load_dotenv(find_dotenv(), override=True)"
   ]
  },
  {
   "cell_type": "code",
   "execution_count": 15,
   "metadata": {},
   "outputs": [],
   "source": [
    "EMBEDDING_MODEL_NAME = \"BAAI/bge-small-en\"\n",
    "EMBEDDING_DIMS = 384"
   ]
  },
  {
   "cell_type": "code",
   "execution_count": null,
   "metadata": {},
   "outputs": [],
   "source": [
    "model_name = EMBEDDING_MODEL_NAME\n",
    "\n",
    "embeddings = HuggingFaceEmbeddings(model_name=model_name)"
   ]
  },
  {
   "cell_type": "code",
   "execution_count": 17,
   "metadata": {},
   "outputs": [
    {
     "data": {
      "text/plain": [
       "'<?xml version=\"1.0\" encoding=\"UTF-8\"?>\\n<!DOCTYPE html PUBLIC \"-//W3C//DTD XHTML 1.0 Transitional//EN\" \"http://www.w3.org/TR/xhtml1/DTD/xhtml1-transitional.dtd\">\\n<html xmlns=\"http://www.w3.org/1999/xhtml\" lang=\"en\" xml:lang=\"en\">\\n\\n<head>  <title>[1706.03762] Attention Is All You Need</title>\\n  <meta name=\"viewport\" content=\"width=device-width, initial-scale=1\">\\n  <link rel=\"apple-touch-icon\" sizes=\"180x180\" href=\"/static/browse/0.3.4/images/icons/apple-touch-icon.png\">\\n  <link rel=\"icon\" type=\"image/png\" sizes=\"32x32\" href=\"/static/browse/0.3.4/images/icons/favicon-32x32.png\">\\n  <link rel=\"icon\" type=\"image/png\" sizes=\"16x16\" href=\"/static/browse/0.3.4/images/icons/favicon-16x16.png\">\\n  <link rel=\"manifest\" href=\"/static/browse/0.3.4/images/icons/site.webmanifest\">\\n  <link rel=\"mask-icon\" href=\"/static/browse/0.3.4/images/icons/safari-pinned-tab.svg\" color=\"#5bbad5\">\\n  <meta name=\"msapplication-TileColor\" content=\"#da532c\">\\n  <meta name=\"theme-color\" content=\"#ffffff\">\\n  <link rel=\"stylesheet\" type=\"text/css\" media=\"screen\" href=\"/static/browse/0.3.4/css/arXiv.css?v=20240822\" />\\n  <link rel=\"stylesheet\" type=\"text/css\" media=\"print\" href=\"/static/browse/0.3.4/css/arXiv-print.css?v=20200611\" />\\n  <link rel=\"stylesheet\" type=\"text/css\" media=\"screen\" href=\"/static/browse/0.3.4/css/browse_search.css\" />\\n  <script language=\"javascript\" src=\"/static/browse/0.3.4/js/accordion.js\" /></script>\\n  <link rel=\"canonical\" href=\"https://arxiv.org/abs/1706.03762\"/>\\n  <meta name=\"description\" content=\"Abstract page for arXiv paper 1706.03762: Attention Is All You Need\"><meta property=\"og:type\" content=\"website\" />\\n<meta property=\"og:site_name\" content=\"arXiv.org\" />\\n<meta property=\"og:title\" content=\"Attention Is All You Need\" />\\n<meta property=\"og:url\" content=\"https://arxiv.org/abs/1706.03762v7\" />\\n<meta property=\"og:image\" content=\"/static/browse/0.3.4/images/arxiv-logo-fb.png\" />\\n<meta property=\"og:image:secure_url\" content=\"/static/browse/0.3.4/images/arxiv-logo-fb.png\" />\\n<meta property=\"og:image:width\" content=\"1200\" />\\n<meta property=\"og:image:height\" content=\"700\" />\\n<meta property=\"og:image:alt\" content=\"arXiv logo\"/>\\n<meta property=\"og:description\" content=\"The dominant sequence transduction models are based on complex recurrent or convolutional neural networks in an encoder-decoder configuration. The best performing models also connect the encoder and decoder through an attention mechanism. We propose a new simple network architecture, the Transformer, based solely on attention mechanisms, dispensing with recurrence and convolutions entirely. Experiments on two machine translation tasks show these models to be superior in quality while being more parallelizable and requiring significantly less time to train. Our model achieves 28.4 BLEU on the WMT 2014 English-to-German translation task, improving over the existing best results, including ensembles by over 2 BLEU. On the WMT 2014 English-to-French translation task, our model establishes a new single-model state-of-the-art BLEU score of 41.8 after training for 3.5 days on eight GPUs, a small fraction of the training costs of the best models from the literature. We show that the Transformer generalizes well to other tasks by applying it successfully to English constituency parsing both with large and limited training data.\"/>\\n<meta name=\"twitter:site\" content=\"@arxiv\"/>\\n<meta name=\"twitter:card\" content=\"summary\"/>\\n<meta name=\"twitter:title\" content=\"Attention Is All You Need\"/>\\n<meta name=\"twitter:description\" content=\"The dominant sequence transduction models are based on complex recurrent or convolutional neural networks in an encoder-decoder configuration. The best performing models also connect the encoder...\"/>\\n<meta name=\"twitter:image\" content=\"https://static.arxiv.org/icons/twitter/arxiv-logo-twitter-square.png\"/>\\n<meta name=\"twitter:image:alt\" content=\"arXiv logo\"/>\\n  <link rel=\"stylesheet\" media=\"screen\" type=\"text/css\" href=\"/static/browse/0.3.4/css/tooltip.css\"/><link rel=\"stylesheet\" media=\"screen\" type=\"text/css\" href=\"https://static.arxiv.org/js/bibex-dev/bibex.css?20200709\"/>  <script src=\"/static/browse/0.3.4/js/mathjaxToggle.min.js\" type=\"text/javascript\"></script>  <script src=\"//code.jquery.com/jquery-latest.min.js\" type=\"text/javascript\"></script>\\n  <script src=\"//cdn.jsdelivr.net/npm/js-cookie@2/src/js.cookie.min.js\" type=\"text/javascript\"></script>\\n  <script src=\"//cdn.jsdelivr.net/npm/dompurify@2.3.5/dist/purify.min.js\"></script>\\n  <script src=\"/static/browse/0.3.4/js/toggle-labs.js?20241022\" type=\"text/javascript\"></script>\\n  <script src=\"/static/browse/0.3.4/js/cite.js\" type=\"text/javascript\"></script><meta name=\"citation_title\" content=\"Attention Is All You Need\" /><meta name=\"citation_author\" content=\"Vaswani, Ashish\" /><meta name=\"citation_author\" content=\"Shazeer, Noam\" /><meta name=\"citation_author\" content=\"Parmar, Niki\" /><meta name=\"citation_author\" content=\"Uszkoreit, Jakob\" /><meta name=\"citation_author\" content=\"Jones, Llion\" /><meta name=\"citation_author\" content=\"Gomez, Aidan N.\" /><meta name=\"citation_author\" content=\"Kaiser, Lukasz\" /><meta name=\"citation_author\" content=\"Polosukhin, Illia\" /><meta name=\"citation_date\" content=\"2017/06/12\" /><meta name=\"citation_online_date\" content=\"2023/08/02\" /><meta name=\"citation_pdf_url\" content=\"http://arxiv.org/pdf/1706.03762\" /><meta name=\"citation_arxiv_id\" content=\"1706.03762\" /><meta name=\"citation_abstract\" content=\"The dominant sequence transduction models are based on complex recurrent or convolutional neural networks in an encoder-decoder configuration. The best performing models also connect the encoder and decoder through an attention mechanism. We propose a new simple network architecture, the Transformer, based solely on attention mechanisms, dispensing with recurrence and convolutions entirely. Experiments on two machine translation tasks show these models to be superior in quality while being more parallelizable and requiring significantly less time to train. Our model achieves 28.4 BLEU on the WMT 2014 English-to-German translation task, improving over the existing best results, including ensembles by over 2 BLEU. On the WMT 2014 English-to-French translation task, our model establishes a new single-model state-of-the-art BLEU score of 41.8 after training for 3.5 days on eight GPUs, a small fraction of the training costs of the best models from the literature. We show that the Transformer generalizes well to other tasks by applying it successfully to English constituency parsing both with large and limited training data.\" />\\n</head>\\n\\n<body  class=\"with-cu-identity\">\\n  \\n  <div class=\"flex-wrap-footer\">\\n    <header>\\n      <a href=\"#content\" class=\"is-sr-only\">Skip to main content</a>\\n      <!-- start desktop header -->\\n      <div class=\"columns is-vcentered is-hidden-mobile\" id=\"cu-identity\">\\n        <div class=\"column\" id=\"cu-logo\">\\n          <a href=\"https://www.cornell.edu/\"><img src=\"/static/browse/0.3.4/images/icons/cu/cornell-reduced-white-SMALL.svg\" alt=\"Cornell University\" /></a>\\n        </div><div class=\"column\" id=\"support-ack\">\\n          <span id=\"support-ack-url\">We gratefully acknowledge support from the Simons Foundation, <a href=\"https://info.arxiv.org/about/ourmembers.html\">member institutions</a>, and all contributors.</span>\\n          <a href=\"https://info.arxiv.org/about/donate.html\" class=\"btn-header-donate\">Donate</a>\\n        </div>\\n      </div>\\n\\n      <div id=\"header\" class=\"is-hidden-mobile\">\\n<a aria-hidden=\"true\" href=\"{url_path(\\'ignore_me\\')}\"></a>\\n  <div class=\"header-breadcrumbs is-hidden-mobile\">\\n    <a href=\"/\"><img src=\"/static/browse/0.3.4/images/arxiv-logo-one-color-white.svg\" alt=\"arxiv logo\" style=\"height:40px;\"/></a> <span>&gt;</span> <a href=\"/list/cs/recent\">cs</a> <span>&gt;</span> arXiv:1706.03762\\n  </div>\\n          <div class=\"search-block level-right\">\\n    <form class=\"level-item mini-search\" method=\"GET\" action=\"https://arxiv.org/search\">\\n      <div class=\"field has-addons\">\\n        <div class=\"control\">\\n          <input class=\"input is-small\" type=\"text\" name=\"query\" placeholder=\"Search...\" aria-label=\"Search term or terms\" />\\n          <p class=\"help\"><a href=\"https://info.arxiv.org/help\">Help</a> | <a href=\"https://arxiv.org/search/advanced\">Advanced Search</a></p>\\n        </div>\\n        <div class=\"control\">\\n          <div class=\"select is-small\">\\n            <select name=\"searchtype\" aria-label=\"Field to search\">\\n              <option value=\"all\" selected=\"selected\">All fields</option>\\n              <option value=\"title\">Title</option>\\n              <option value=\"author\">Author</option>\\n              <option value=\"abstract\">Abstract</option>\\n              <option value=\"comments\">Comments</option>\\n              <option value=\"journal_ref\">Journal reference</option>\\n              <option value=\"acm_class\">ACM classification</option>\\n              <option value=\"msc_class\">MSC classification</option>\\n              <option value=\"report_num\">Report number</option>\\n              <option value=\"paper_id\">arXiv identifier</option>\\n              <option value=\"doi\">DOI</option>\\n              <option value=\"orcid\">ORCID</option>\\n              <option value=\"author_id\">arXiv author ID</option>\\n              <option value=\"help\">Help pages</option>\\n              <option value=\"full_text\">Full text</option>\\n            </select>\\n          </div>\\n        </div>\\n        <input type=\"hidden\" name=\"source\" value=\"header\">\\n        <button class=\"button is-small is-cul-darker\">Search</button>\\n      </div>\\n    </form>\\n  </div>\\n     </div><!-- /end desktop header -->\\n\\n      <div class=\"mobile-header\">\\n        <div class=\"columns is-mobile\">\\n          <div class=\"column logo-arxiv\"><a href=\"https://arxiv.org/\"><img src=\"/static/browse/0.3.4/images/arxiv-logomark-small-white.svg\" alt=\"arXiv logo\" style=\"height:60px;\" /></a></div>\\n          <div class=\"column logo-cornell\"><a href=\"https://www.cornell.edu/\">\\n            <picture>\\n              <source media=\"(min-width: 501px)\"\\n                srcset=\"/static/browse/0.3.4/images/icons/cu/cornell-reduced-white-SMALL.svg  400w\"\\n                sizes=\"400w\" />\\n              <source srcset=\"/static/browse/0.3.4/images/icons/cu/cornell_seal_simple_black.svg 2x\" />\\n              <img src=\"/static/browse/0.3.4/images/icons/cu/cornell-reduced-white-SMALL.svg\" alt=\"Cornell University Logo\" />\\n            </picture>\\n          </a></div>\\n          <div class=\"column nav\" id=\"toggle-container\" role=\"menubar\">\\n            <button class=\"toggle-control\"><svg xmlns=\"http://www.w3.org/2000/svg\" viewBox=\"0 0 512 512\" class=\"icon filter-white\"><title>open search</title><path d=\"M505 442.7L405.3 343c-4.5-4.5-10.6-7-17-7H372c27.6-35.3 44-79.7 44-128C416 93.1 322.9 0 208 0S0 93.1 0 208s93.1 208 208 208c48.3 0 92.7-16.4 128-44v16.3c0 6.4 2.5 12.5 7 17l99.7 99.7c9.4 9.4 24.6 9.4 33.9 0l28.3-28.3c9.4-9.4 9.4-24.6.1-34zM208 336c-70.7 0-128-57.2-128-128 0-70.7 57.2-128 128-128 70.7 0 128 57.2 128 128 0 70.7-57.2 128-128 128z\"/></svg></button>\\n            <div class=\"mobile-toggle-block toggle-target\">\\n              <form class=\"mobile-search-form\" method=\"GET\" action=\"https://arxiv.org/search\">\\n                <div class=\"field has-addons\">\\n                  <input class=\"input\" type=\"text\" name=\"query\" placeholder=\"Search...\" aria-label=\"Search term or terms\" />\\n                  <input type=\"hidden\" name=\"source\" value=\"header\">\\n                  <input type=\"hidden\" name=\"searchtype\" value=\"all\">\\n                  <button class=\"button\">GO</button>\\n                </div>\\n              </form>\\n            </div>\\n\\n            <button class=\"toggle-control\"><svg xmlns=\"http://www.w3.org/2000/svg\" viewBox=\"0 0 448 512\" class=\"icon filter-white\" role=\"menu\"><title>open navigation menu</title><path d=\"M16 132h416c8.837 0 16-7.163 16-16V76c0-8.837-7.163-16-16-16H16C7.163 60 0 67.163 0 76v40c0 8.837 7.163 16 16 16zm0 160h416c8.837 0 16-7.163 16-16v-40c0-8.837-7.163-16-16-16H16c-8.837 0-16 7.163-16 16v40c0 8.837 7.163 16 16 16zm0 160h416c8.837 0 16-7.163 16-16v-40c0-8.837-7.163-16-16-16H16c-8.837 0-16 7.163-16 16v40c0 8.837 7.163 16 16 16z\"/ ></svg></button>\\n            <div class=\"mobile-toggle-block toggle-target\">\\n              <nav class=\"mobile-menu\" aria-labelledby=\"mobilemenulabel\">\\n                <h2 id=\"mobilemenulabel\">quick links</h2>\\n                <ul>\\n                    <li><a href=\"https://arxiv.org/login\">Login</a></li>\\n                    <li><a href=\"https://info.arxiv.org/help\">Help Pages</a></li>\\n                    <li><a href=\"https://info.arxiv.org/about\">About</a></li>\\n                </ul>\\n              </nav>\\n            </div>\\n          </div>\\n        </div>\\n      </div><!-- /end mobile-header -->\\n    </header>\\n\\n    <main>\\n      <div id=\"content\">\\n<!--\\nrdf:RDF xmlns:rdf=\"http://www.w3.org/1999/02/22-rdf-syntax-ns#\"\\n         xmlns:dc=\"http://purl.org/dc/elements/1.1/\"\\n         xmlns:trackback=\"http://madskills.com/public/xml/rss/module/trackback/\">\\n    <rdf:Description\\n        rdf:about=\"/abs/1706.03762\"\\n        dc:identifier=\"/abs/1706.03762\"\\n        dc:title=\"Attention Is All You Need\"\\n        trackback:ping=\"/trackback/1706.03762\" />\\n    </rdf:RDF>\\n--><div id=\"abs-outer\">\\n\\n  <div class=\"leftcolumn\">\\n    <div class=\"subheader\">\\n      <h1>Computer Science > Computation and Language</h1>\\n    </div>\\n\\n    <div class=\"header-breadcrumbs-mobile\">\\n      <strong>arXiv:1706.03762</strong> (cs)\\n    </div>\\n<link rel=\"stylesheet\" type=\"text/css\" href=\"/static/base/1.0.1/css/abs.css\">\\n<div id=\"content-inner\">\\n  <div id=\"abs\">\\n    <div class=\"dateline\">\\n  [Submitted on 12 Jun 2017 (<a href=\"https://arxiv.org/abs/1706.03762v1\">v1</a>), last revised 2 Aug 2023 (this version, v7)]</div>\\n    <h1 class=\"title mathjax\"><span class=\"descriptor\">Title:</span>Attention Is All You Need</h1>\\n    <div class=\"authors\"><span class=\"descriptor\">Authors:</span><a href=\"https://arxiv.org/search/cs?searchtype=author&amp;query=Vaswani,+A\" rel=\"nofollow\">Ashish Vaswani</a>, <a href=\"https://arxiv.org/search/cs?searchtype=author&amp;query=Shazeer,+N\" rel=\"nofollow\">Noam Shazeer</a>, <a href=\"https://arxiv.org/search/cs?searchtype=author&amp;query=Parmar,+N\" rel=\"nofollow\">Niki Parmar</a>, <a href=\"https://arxiv.org/search/cs?searchtype=author&amp;query=Uszkoreit,+J\" rel=\"nofollow\">Jakob Uszkoreit</a>, <a href=\"https://arxiv.org/search/cs?searchtype=author&amp;query=Jones,+L\" rel=\"nofollow\">Llion Jones</a>, <a href=\"https://arxiv.org/search/cs?searchtype=author&amp;query=Gomez,+A+N\" rel=\"nofollow\">Aidan N. Gomez</a>, <a href=\"https://arxiv.org/search/cs?searchtype=author&amp;query=Kaiser,+L\" rel=\"nofollow\">Lukasz Kaiser</a>, <a href=\"https://arxiv.org/search/cs?searchtype=author&amp;query=Polosukhin,+I\" rel=\"nofollow\">Illia Polosukhin</a></div>            <div id=\"download-button-info\" hidden>View a PDF of the paper titled Attention Is All You Need, by Ashish Vaswani and 7 other authors</div>\\n    <a class=\"mobile-submission-download\" href=\"/pdf/1706.03762\">View PDF</a>\\n    <a class=\"mobile-submission-download\" href=\"https://arxiv.org/html/1706.03762v7\">HTML (experimental)</a>\\n\\n\\n\\n    <blockquote class=\"abstract mathjax\">\\n            <span class=\"descriptor\">Abstract:</span>The dominant sequence transduction models are based on complex recurrent or convolutional neural networks in an encoder-decoder configuration. The best performing models also connect the encoder and decoder through an attention mechanism. We propose a new simple network architecture, the Transformer, based solely on attention mechanisms, dispensing with recurrence and convolutions entirely. Experiments on two machine translation tasks show these models to be superior in quality while being more parallelizable and requiring significantly less time to train. Our model achieves 28.4 BLEU on the WMT 2014 English-to-German translation task, improving over the existing best results, including ensembles by over 2 BLEU. On the WMT 2014 English-to-French translation task, our model establishes a new single-model state-of-the-art BLEU score of 41.8 after training for 3.5 days on eight GPUs, a small fraction of the training costs of the best models from the literature. We show that the Transformer generalizes well to other tasks by applying it successfully to English constituency parsing both with large and limited training data.\\n    </blockquote>\\n\\n    <!--CONTEXT-->\\n    <div class=\"metatable\">\\n      <table summary=\"Additional metadata\">        <tr>\\n          <td class=\"tablecell label\">Comments:</td>\\n          <td class=\"tablecell comments mathjax\">15 pages, 5 figures</td>\\n        </tr>\\n<tr>\\n          <td class=\"tablecell label\">Subjects:</td>\\n          <td class=\"tablecell subjects\">\\n            <span class=\"primary-subject\">Computation and Language (cs.CL)</span>; Machine Learning (cs.LG)</td>\\n        </tr><tr>\\n          <td class=\"tablecell label\">Cite as:</td>\\n          <td class=\"tablecell arxivid\"><span class=\"arxivid\"><a href=\"https://arxiv.org/abs/1706.03762\">arXiv:1706.03762</a> [cs.CL]</span></td>\\n        </tr>\\n        <tr>\\n          <td class=\"tablecell label\">&nbsp;</td>\\n          <td class=\"tablecell arxividv\">(or <span class=\"arxivid\">\\n              <a href=\"https://arxiv.org/abs/1706.03762v7\">arXiv:1706.03762v7</a> [cs.CL]</span> for this version)\\n          </td>\\n        </tr>\\n        <tr>\\n          <td class=\"tablecell label\">&nbsp;</td>\\n          <td class=\"tablecell arxivdoi\">              <a href=\"https://doi.org/10.48550/arXiv.1706.03762\"  id=\"arxiv-doi-link\">https://doi.org/10.48550/arXiv.1706.03762</a><div class=\"button-and-tooltip\">\\n              <button class=\"more-info\" aria-describedby=\"more-info-desc-1\">\\n                <svg height=\"15\" role=\"presentation\" xmlns=\"http://www.w3.org/2000/svg\" viewBox=\"0 0 512 512\"><path fill=\"currentColor\" d=\"M256 8C119.043 8 8 119.083 8 256c0 136.997 111.043 248 248 248s248-111.003 248-248C504 119.083 392.957 8 256 8zm0 110c23.196 0 42 18.804 42 42s-18.804 42-42 42-42-18.804-42-42 18.804-42 42-42zm56 254c0 6.627-5.373 12-12 12h-88c-6.627 0-12-5.373-12-12v-24c0-6.627 5.373-12 12-12h12v-64h-12c-6.627 0-12-5.373-12-12v-24c0-6.627 5.373-12 12-12h64c6.627 0 12 5.373 12 12v100h12c6.627 0 12 5.373 12 12v24z\" class=\"\"></path></svg>\\n                <span class=\"visually-hidden\">Focus to learn more</span>\\n              </button>\\n              <!-- tooltip description -->\\n              <div role=\"tooltip\" id=\"more-info-desc-1\">\\n                <span class=\"left-corner\"></span>                  arXiv-issued DOI via DataCite</div>\\n            </div>\\n          </td>\\n        </tr></table>\\n    </div>\\n  </div>\\n</div>\\n    <div class=\"submission-history\">\\n      <h2>Submission history</h2> From: Llion Jones [<a href=\"/show-email/f53b7360/1706.03762\" rel=\"nofollow\">view email</a>]      <br/>            <strong><a href=\"/abs/1706.03762v1\" rel=\"nofollow\">[v1]</a></strong>\\n        Mon, 12 Jun 2017 17:57:34 UTC (1,102 KB)<br/>\\n            <strong><a href=\"/abs/1706.03762v2\" rel=\"nofollow\">[v2]</a></strong>\\n        Mon, 19 Jun 2017 16:49:45 UTC (1,125 KB)<br/>\\n            <strong><a href=\"/abs/1706.03762v3\" rel=\"nofollow\">[v3]</a></strong>\\n        Tue, 20 Jun 2017 05:20:02 UTC (1,125 KB)<br/>\\n            <strong><a href=\"/abs/1706.03762v4\" rel=\"nofollow\">[v4]</a></strong>\\n        Fri, 30 Jun 2017 17:29:30 UTC (1,124 KB)<br/>\\n            <strong><a href=\"/abs/1706.03762v5\" rel=\"nofollow\">[v5]</a></strong>\\n        Wed, 6 Dec 2017 03:30:32 UTC (1,124 KB)<br/>\\n            <strong><a href=\"/abs/1706.03762v6\" rel=\"nofollow\">[v6]</a></strong>\\n        Mon, 24 Jul 2023 00:48:54 UTC (1,124 KB)<br/>\\n    <strong>[v7]</strong>\\n        Wed, 2 Aug 2023 00:41:18 UTC (1,124 KB)<br/>\\n</div>\\n  </div>\\n  <!--end leftcolumn-->\\n<div class=\"extra-services\">    <div class=\"full-text\">\\n      <a name=\"other\"></a>\\n      <span class=\"descriptor\">Full-text links:</span>\\n      <h2>Access Paper:</h2>\\n      <ul>\\n  <div id=\"download-button-info\" hidden>\\nView a PDF of the paper titled Attention Is All You Need, by Ashish Vaswani and 7 other authors</div><li><a href=\"/pdf/1706.03762\" aria-describedby=\"download-button-info\" accesskey=\"f\" class=\"abs-button download-pdf\">View PDF</a></li><li><a href=\"https://arxiv.org/html/1706.03762v7\" class=\"abs-button\" id=\"latexml-download-link\">HTML (experimental)</a></li><li><a href=\"/src/1706.03762\" class=\"abs-button download-eprint\">TeX Source</a></li><li><a href=\"/format/1706.03762\" class=\"abs-button download-format\">Other Formats</a></li></ul>\\n      <div class=\"abs-license\"><a href=\"http://arxiv.org/licenses/nonexclusive-distrib/1.0/\" title=\"Rights to this article\">view license</a></div>\\n    </div>\\n    <!--end full-text-->    <div class=\"browse\">\\n    Current browse context: <div class=\"current\">cs.CL</div>\\n\\n  <div class=\"prevnext\">\\n<span class=\"arrow\">\\n      <a class=\"abs-button prev-url\" href=\"/prevnext?id=1706.03762&amp;function=prev&amp;context=cs.CL\"\\n         accesskey=\"p\" title=\"previous in cs.CL (accesskey p)\" rel=\"nofollow\">&lt;&nbsp;prev</a>\\n    </span>\\n    <span class=\"is-hidden-mobile\">&nbsp; | &nbsp;</span>    <span class=\"arrow\">\\n      <a class=\"abs-button next-url\" href=\"/prevnext?id=1706.03762&amp;function=next&amp;context=cs.CL\" accesskey=\"n\"\\n         title=\"next in cs.CL (accesskey n)\"  rel=\"nofollow\">next&nbsp;&gt;</a>\\n    </span><br/>\\n  </div><div class=\"list\">\\n    <a class=\"abs-button abs-button-grey abs-button-small context-new\" href=\"/list/cs.CL/new\"  rel=\"nofollow\">new</a>\\n    <span class=\"is-hidden-mobile\"> | </span>\\n    <a class=\"abs-button abs-button-grey abs-button-small context-recent\" href=\"/list/cs.CL/recent\" rel=\"nofollow\">recent</a>\\n    <span class=\"is-hidden-mobile\"> | </span><a class=\"abs-button abs-button-grey abs-button-small context-id\" href=\"/list/cs.CL/2017-06\" rel=\"nofollow\">2017-06</a>\\n  </div><div class=\"abs-switch-cat\">\\n    Change to browse by:\\n    <div class=\"switch context-change\">\\n        <a href=\"/abs/1706.03762?context=cs\" rel=\"nofollow\">cs</a><br class=\"is-hidden-mobile\">\\n        <a class=\"subclass\" href=\"/abs/1706.03762?context=cs.LG\" rel=\"nofollow\">cs.LG</a><br class=\"is-hidden-mobile\">\\n    </div>\\n  </div>\\n\\n    </div>\\n      <div class=\"extra-ref-cite\">\\n        <h3>References &amp; Citations</h3>\\n        <ul>\\n          <li><a  class=\"abs-button abs-button-small cite-ads\" href=\"https://ui.adsabs.harvard.edu/abs/arXiv:1706.03762\">NASA ADS</a></li><li><a  class=\"abs-button abs-button-small cite-google-scholar\" href=\"https://scholar.google.com/scholar_lookup?arxiv_id=1706.03762\" target=\"_blank\" rel=\"noopener\">Google Scholar</a></li>\\n          <li><a  class=\"abs-button abs-button-small cite-semantic-scholar\" href=\"https://api.semanticscholar.org/arXiv:1706.03762\" target=\"_blank\" rel=\"noopener\">Semantic Scholar</a></li>\\n        </ul>\\n        <div style=\"clear:both;\"></div>\\n      </div>\\n\\n    <div class=\"extra-general\">\\n        <div class=\"what-is-this\">\\n            <h3><a  class=\"abs-button abs-button-grey abs-button-small trackback-link\" href=\"/tb/1706.03762\"> 122 blog links</a></h3> (<a href=\"https://info.arxiv.org/help/trackback.html\" class=\"trackback-help\">what is this?</a>)\\n        </div>\\n    </div>\\n<div class=\"dblp\">\\n    <h3><a href=\"https://dblp.uni-trier.de\">DBLP</a> - CS Bibliography</h3>\\n    <div class=\"list\">\\n      <a href=\"https://dblp.uni-trier.de/db/journals/corr/corr1706.html#VaswaniSPUJGKP17\" title=\"listing on DBLP\">listing</a> | <a href=\"https://dblp.uni-trier.de/rec/bibtex/journals/corr/VaswaniSPUJGKP17\" title=\"DBLP bibtex record\">bibtex</a>    </div>\\n    <div class=\"list\">\\n<a href=\"https://dblp.uni-trier.de/search/author?author=Ashish%20Vaswani\" title=\"DBLP author search\">Ashish Vaswani</a><br/><a href=\"https://dblp.uni-trier.de/search/author?author=Noam%20Shazeer\" title=\"DBLP author search\">Noam Shazeer</a><br/><a href=\"https://dblp.uni-trier.de/search/author?author=Niki%20Parmar\" title=\"DBLP author search\">Niki Parmar</a><br/><a href=\"https://dblp.uni-trier.de/search/author?author=Jakob%20Uszkoreit\" title=\"DBLP author search\">Jakob Uszkoreit</a><br/><a href=\"https://dblp.uni-trier.de/search/author?author=Llion%20Jones\" title=\"DBLP author search\">Llion Jones</a>      <div class=\"list\">&hellip;</div>\\n    </div>\\n  </div><div class=\\'extra-ref-cite\\'>\\n    <a id=\\'bib-cite-css\\' hidden=\\'true\\' href=\\'/static/browse/0.3.4/css/cite.css\\'>a</a>\\n\\n    <span id=\\'bib-cite-trigger\\' class=\"bib-cite-button abs-button\">export BibTeX citation</span>\\n    <span id=\\'bib-cite-loading\\' hidden=\\'true\\'>Loading...</span>\\n</div>\\n\\n<div id=\\'bib-cite-modal\\' class=\\'bib-modal\\' hidden=\\'true\\'>\\n    <div class=\\'bib-modal-content\\'>\\n        <div class=\\'bib-modal-title\\'>\\n            <h2>BibTeX formatted citation</h2>\\n            <span class=\\'bib-modal-close\\' >&times;</span>\\n        </div>\\n        <div>\\n            <textarea id=\\'bib-cite-target\\' class=\"bib-citation-content\" aria-label=\"loading the citation\">loading...</textarea>\\n        </div>\\n        <div>\\n            <span>Data provided by: </span>\\n            <a id=\\'bib-cite-source-api\\'></a>\\n        </div>\\n    </div>\\n</div><div class=\"bookmarks\">\\n  <div><h3>Bookmark</h3></div><a class=\"abs-button abs-button-grey abs-button-small\" href=\"http://www.bibsonomy.org/BibtexHandler?requTask=upload&amp;url=https://arxiv.org/abs/1706.03762&amp;description=Attention Is All You Need\"\\n     title=\"Bookmark on BibSonomy\">\\n    <img src=\"/static/browse/0.3.4/images/icons/social/bibsonomy.png\"\\n         alt=\"BibSonomy logo\"/>\\n  </a>\\n  <a class=\"abs-button abs-button-grey abs-button-small\" href=\"https://reddit.com/submit?url=https://arxiv.org/abs/1706.03762&amp;title=Attention Is All You Need\"\\n     title=\"Bookmark on Reddit\">\\n    <img src=\"/static/browse/0.3.4/images/icons/social/reddit.png\"\\n         alt=\"Reddit logo\"/>\\n  </a>\\n</div>  </div>\\n  <!--end extra-services-->\\n<!-- LABS AREA -->\\n<div id=\"labstabs\">\\n  <div class=\"labstabs\"><input type=\"radio\" name=\"tabs\" id=\"tabone\"checked=\"checked\">\\n    <label for=\"tabone\">Bibliographic Tools</label>\\n    <div class=\"tab labs-display-bib\">\\n      <h1>Bibliographic and Citation Tools</h1>\\n      <div class=\"toggle\">\\n        <div class=\"columns is-mobile lab-row\">\\n          <div class=\"column lab-switch\">\\n            <label class=\"switch\">\\n              <input id=\"bibex-toggle\" type=\"checkbox\" class=\"lab-toggle\">\\n              <span class=\"slider\"></span>\\n              <span class=\"is-sr-only\">Bibliographic Explorer Toggle</span>\\n            </label>\\n          </div>\\n          <div class=\"column lab-name\">\\n            <span id=\"label-for-bibex\">Bibliographic Explorer</span> <em>(<a href=\"https://info.arxiv.org/labs/showcase.html#arxiv-bibliographic-explorer\">What is the Explorer?</a>)</em>\\n          </div>\\n        </div>\\n        <div class=\"columns is-mobile lab-row\">\\n          <div class=\"column lab-switch\">\\n            <label class=\"switch\">\\n              <input\\n                id=\"connectedpapers-toggle\"\\n                type=\"checkbox\"\\n                class=\"lab-toggle\"\\n                data-script-url=\"/static/browse/0.3.4/js/connectedpapers.js\"\\n                aria-labelledby=\"label-for-connected-papers\">\\n              <span class=\"slider\"></span>\\n              <span class=\"is-sr-only\">Connected Papers Toggle</span>\\n            </label>\\n          </div>\\n          <div class=\"column lab-name\">\\n            <span id=\"label-for-connected-papers\">Connected Papers</span> <em>(<a href=\"https://www.connectedpapers.com/about\" target=\"_blank\">What is Connected Papers?</a>)</em>\\n          </div>\\n        </div><div class=\"columns is-mobile lab-row\">\\n          <div class=\"column lab-switch\">\\n            <label class=\"switch\">\\n              <input\\n                id=\"litmaps-toggle\"\\n                type=\"checkbox\"\\n                class=\"lab-toggle\"\\n                data-script-url=\"/static/browse/0.3.4/js/litmaps.js?20210617\"\\n                aria-labelledby=\"label-for-litmaps\">\\n              <span class=\"slider\"></span>\\n              <span class=\"is-sr-only\">Litmaps Toggle</span>\\n            </label>\\n          </div>\\n          <div class=\"column lab-name\">\\n            <span id=\"label-for-litmaps\">Litmaps</span> <em>(<a href=\"https://www.litmaps.co/\" target=\"_blank\">What is Litmaps?</a>)</em>\\n          </div>\\n        </div>\\n        <div class=\"columns is-mobile lab-row\">\\n          <div class=\"column lab-switch\">\\n            <label class=\"switch\">\\n              <input\\n                id=\"scite-toggle\"\\n                type=\"checkbox\"\\n                class=\"lab-toggle\"\\n                data-script-url=\"/static/browse/0.3.4/js/scite.js?20210617\"\\n                aria-labelledby=\"label-for-scite\">\\n              <span class=\"slider\"></span>\\n              <span class=\"is-sr-only\">scite.ai Toggle</span>\\n            </label>\\n          </div>\\n          <div class=\"column lab-name\">\\n            <span id=\"label-for-scite\">scite Smart Citations</span> <em>(<a href=\"https://www.scite.ai/\" target=\"_blank\">What are Smart Citations?</a>)</em>\\n          </div>\\n        </div>\\n      </div>\\n        <div class=\"labs-content-placeholder labs-display\" style=\"display: none;\"></div>\\n        <div style=\"min-height: 15px\" id=\"connectedpapers-output\"></div>\\n        <div style=\"min-height: 15px\" id=\"litmaps-open-in\"></div>\\n        <div style=\"min-height: 15px\" id=\"scite-open-in\"></div>\\n    </div>\\n\\n\\n    <input type=\"radio\" name=\"tabs\" id=\"tabtwo\">\\n    <label for=\"tabtwo\">Code, Data, Media</label>\\n    <div class=\"tab\">\\n      <h1>Code, Data and Media Associated with this Article</h1>\\n      <div class=\"toggle\">\\n        <div class=\"columns is-mobile lab-row\">\\n          <div class=\"column lab-switch\">\\n            <label class=\"switch\">\\n              <input\\n                id=\"alphaxiv-toggle\"\\n                data-script-url=\"/static/browse/0.3.4/js/alphaxiv.js\"\\n                type=\"checkbox\" class=\"lab-toggle\" aria-labelledby=\"label-for-alphaxiv\">\\n              <span class=\"slider\"></span>\\n              <span class=\"is-sr-only\">alphaXiv Toggle</span>\\n            </label>\\n          </div>\\n          <div class=\"column lab-name\">\\n            <span id=\"label-for-alphaxiv\">alphaXiv</span> <em>(<a href=\"https://alphaxiv.org/\" target=\"_blank\">What is alphaXiv?</a>)</em>\\n          </div>\\n        </div>\\n\\n        <div class=\"columns is-mobile lab-row\">\\n          <div class=\"column lab-switch\">\\n            <label class=\"switch\">\\n              <input        \\n                id=\"catalyzex-toggle\"\\n                data-script-url=\"/static/browse/0.3.4/js/catalyzex.js\"\\n                type=\"checkbox\" class=\"lab-toggle\" aria-labelledby=\"label-for-cx\">\\n              <span class=\"slider\"></span>\\n              <span class=\"is-sr-only\">Links to Code Toggle</span>\\n            </label>\\n          </div>\\n          <div class=\"column lab-name\">\\n            <span id=\"label-for-cx\">CatalyzeX Code Finder for Papers</span> <em>(<a href=\"https://www.catalyzex.com\" target=\"_blank\">What is CatalyzeX?</a>)</em>\\n          </div>\\n        </div>\\n\\n        <div class=\"columns is-mobile lab-row\">\\n          <div class=\"column lab-switch\">\\n            <label class=\"switch\">\\n              <input\\n                id=\"dagshub-toggle\"\\n                data-script-url=\"/static/browse/0.3.4/js/dagshub.js\"\\n                type=\"checkbox\" class=\"lab-toggle\" aria-labelledby=\"label-for-dagshub\">\\n              <span class=\"slider\"></span>\\n              <span class=\"is-sr-only\">DagsHub Toggle</span>\\n            </label>\\n          </div>\\n          <div class=\"column lab-name\">\\n            <span id=\"label-for-dagshub\">DagsHub</span> <em>(<a href=\"https://dagshub.com/\" target=\"_blank\">What is DagsHub?</a>)</em>\\n          </div>\\n        </div>\\n  \\n        <div class=\"columns is-mobile lab-row\">\\n          <div class=\"column lab-switch\">\\n            <label class=\"switch\">\\n              <input\\n                id=\"gotitpub-toggle\"\\n                data-script-url=\"/static/browse/0.3.4/js/gotitpub.js\"\\n                type=\"checkbox\" class=\"lab-toggle\" aria-labelledby=\"label-for-gotitpub\">\\n              <span class=\"slider\"></span>\\n              <span class=\"is-sr-only\">GotitPub Toggle</span>\\n            </label>\\n          </div>\\n          <div class=\"column lab-name\">\\n            <span id=\"label-for-gotitpub\">Gotit.pub</span> <em>(<a href=\"http://gotit.pub/faq\" target=\"_blank\">What is GotitPub?</a>)</em>\\n          </div>\\n        </div>\\n\\n        <div class=\"columns is-mobile lab-row\">\\n          <div class=\"column lab-switch\">\\n            <label class=\"switch\">\\n              <input\\n                id=\"huggingface-toggle\"\\n                data-script-url=\"/static/browse/0.3.4/js/huggingface.js\"\\n                type=\"checkbox\" class=\"lab-toggle\" aria-labelledby=\"label-for-huggingface\">\\n              <span class=\"slider\"></span>\\n              <span class=\"is-sr-only\">Huggingface Toggle</span>\\n            </label>\\n          </div>\\n          <div class=\"column lab-name\">\\n            <span id=\"label-for-huggingface\">Hugging Face</span> <em>(<a href=\"https://huggingface.co/huggingface\" target=\"_blank\">What is Huggingface?</a>)</em>\\n          </div>\\n        </div>\\n\\n        <div class=\"columns is-mobile lab-row\">\\n          <div class=\"column lab-switch\">\\n            <label class=\"switch\">\\n              <input\\n                id=\"paperwithcode-toggle\"\\n                data-script-url=\"/static/browse/0.3.4/js/paperswithcode.js\"\\n                type=\"checkbox\" class=\"lab-toggle\" aria-labelledby=\"label-for-pwc\">\\n              <span class=\"slider\"></span>\\n              <span class=\"is-sr-only\">Links to Code Toggle</span>\\n            </label>\\n          </div>\\n          <div class=\"column lab-name\">\\n            <span id=\"label-for-pwc\">Papers with Code</span> <em>(<a href=\"https://paperswithcode.com/\" target=\"_blank\">What is Papers with Code?</a>)</em>\\n          </div>\\n        </div>\\n\\n\\n        <div class=\"columns is-mobile lab-row\">\\n          <div class=\"column lab-switch\">\\n            <label class=\"switch\">\\n              <input\\n                id=\"sciencecast-toggle\"\\n                data-script-url=\"/static/browse/0.3.4/js/sciencecast.js\"\\n                type=\"checkbox\" class=\"lab-toggle\" aria-labelledby=\"label-for-sciencecast\">\\n              <span class=\"slider\"></span>\\n              <span class=\"is-sr-only\">ScienceCast Toggle</span>\\n            </label>\\n          </div>\\n          <div class=\"column lab-name\">\\n            <span id=\"label-for-sciencecast\">ScienceCast</span> <em>(<a href=\"https://sciencecast.org/welcome\" target=\"_blank\">What is ScienceCast?</a>)</em>\\n          </div>\\n        </div>\\n      </div>\\n\\n      <div id=\"alphaxiv-output\" style=\"display:none\"></div>\\n      <div id=\"catalyzex-output\" style=\"display:none\"></div>\\n      <div id=\"dagshub-output\" style=\"display:none\"></div>\\n      <div id=\"gotitpub-output\" style=\"display:none\"></div>\\n      <div id=\"pwc-output\" style=\"display:none\"></div>\\n      <div id=\"pwc-data-output\" style=\"display:none\"></div>\\n      <div id=\"sciencecast-output\" style=\"display:none\"></div>\\n      <div id=\"huggingface-output\" style=\"display:none\"></div>\\n    </div>\\n\\n\\n      <input type=\"radio\" name=\"tabs\" id=\"labstabs-demos-input\">\\n      <label for=\"labstabs-demos-input\" id=\"labstabs-demos-label\">Demos</label>\\n      <div class=\"tab\">\\n        <h1>Demos</h1>\\n        <div class=\"toggle\">\\n          <div class=\"columns is-mobile lab-row\">\\n            <div class=\"column lab-switch\">\\n              <label class=\"switch\">\\n                <input\\n                  id=\"replicate-toggle\"\\n                  data-script-url=\"/static/browse/0.3.4/js/replicate.js\"\\n                  type=\"checkbox\" class=\"lab-toggle\" aria-labelledby=\"label-for-replicate\">\\n                <span class=\"slider\"></span>\\n                <span class=\"is-sr-only\">Replicate Toggle</span>\\n              </label>\\n            </div>\\n            <div class=\"column lab-name\">\\n              <span id=\"label-for-replicate\">Replicate</span> <em>(<a href=\"https://replicate.com/docs/arxiv/about\" target=\"_blank\">What is Replicate?</a>)</em>\\n            </div>\\n          </div>\\n          <div class=\"columns is-mobile lab-row\">\\n            <div class=\"column lab-switch\">\\n              <label class=\"switch\">\\n                <input\\n                  id=\"spaces-toggle\"\\n                  data-script-url=\"/static/browse/0.3.4/js/spaces.js\"\\n                  type=\"checkbox\" class=\"lab-toggle\" aria-labelledby=\"label-for-spaces\">\\n                <span class=\"slider\"></span>\\n                <span class=\"is-sr-only\">Spaces Toggle</span>\\n              </label>\\n            </div>\\n            <div class=\"column lab-name\">\\n              <span id=\"label-for-spaces\">Hugging Face Spaces</span> <em>(<a href=\"https://huggingface.co/docs/hub/spaces\" target=\"_blank\">What is Spaces?</a>)</em>\\n            </div>\\n          </div>\\n          <div class=\"columns is-mobile lab-row\">\\n            <div class=\"column lab-switch\">\\n              <label class=\"switch\">\\n                <input\\n                  id=\"txyz-toggle\"\\n                  data-script-url=\"/static/browse/0.3.4/js/txyz.js\"\\n                  type=\"checkbox\" class=\"lab-toggle\" aria-labelledby=\"label-for-txyz\">\\n                <span class=\"slider\"></span>\\n                <span class=\"is-sr-only\">Spaces Toggle</span>\\n              </label>\\n            </div>\\n            <div class=\"column lab-name\">\\n              <span id=\"label-for-txyz\">TXYZ.AI</span> <em>(<a href=\"https://txyz.ai\" target=\"_blank\">What is TXYZ.AI?</a>)</em>\\n            </div>\\n          </div>\\n        </div>\\n        <div id=\"replicate-output\"></div>\\n        <div id=\"spaces-output\"></div>\\n        <div id=\"txyz-output\"></div>\\n      </div>\\n      <input type=\"radio\" name=\"tabs\" id=\"tabfour\">\\n      <label for=\"tabfour\">Related Papers</label>\\n      <div class=\"tab\">\\n        <h1>Recommenders and Search Tools</h1>\\n        <div class=\"toggle\">\\n          <div class=\"columns is-mobile lab-row\">\\n            <div class=\"column lab-switch\">\\n              <label class=\"switch\">\\n                <input id=\"influenceflower-toggle\"\\n                data-script-url=\"/static/browse/0.3.4/js/influenceflower.js\"\\n                type=\"checkbox\" class=\"lab-toggle\" aria-labelledby=\"label-for-influenceflower\">\\n                <span class=\"slider\"></span>\\n                <span class=\"is-sr-only\">Link to Influence Flower</span>\\n              </label>\\n            </div>\\n            <div class=\"column lab-name\">\\n              <span id=\"label-for-influenceflower\">Influence Flower</span> <em>(<a href=\"https://influencemap.cmlab.dev/\" target=\"_blank\">What are Influence Flowers?</a>)</em>\\n            </div>\\n          </div>\\n          <div class=\"columns is-mobile lab-row\">\\n            <div class=\"column lab-switch\">\\n              <label class=\"switch\">\\n                <input id=\"core-recommender-toggle\" type=\"checkbox\" class=\"lab-toggle\" aria-labelledby=\"label-for-core\">\\n                <span class=\"slider\"></span>\\n                <span class=\"is-sr-only\">Core recommender toggle</span>\\n              </label>\\n            </div>\\n            <div class=\"column lab-name\">\\n              <span id=\"label-for-core\">CORE Recommender</span> <em>(<a href=\"https://core.ac.uk/services/recommender\">What is CORE?</a>)</em>\\n            </div>\\n          </div></div>\\n        <div id=\"influenceflower-output\"></div>\\n        <div id=\"influenceflower-output-graph\" style=\"display:none\">\\n          <ul class=\"flower-tabs\">\\n            <li class=\"active\"><a class=\"btn tab-btn\" onclick=\"openTab(event, \\'tab-author\\')\">Author</a></li>\\n            <li><a class=\"btn tab-btn\" onclick=\"openTab(event, \\'tab-venue\\')\">Venue</a></li>\\n            <li><a class=\"btn tab-btn\" onclick=\"openTab(event, \\'tab-inst\\')\">Institution</a></li>\\n            <li><a class=\"btn tab-btn\" onclick=\"openTab(event, \\'tab-topic\\')\">Topic</a></li>\\n          </ul>\\n          <div class=\"flower-tab-content\">\\n            <div class=\"tab-flower active\" id=\"tab-author\"><svg id=\"flower-graph-author\"></svg></div>\\n            <div class=\"tab-flower\" id=\"tab-venue\"><svg id=\"flower-graph-venue\"></svg></div>\\n            <div class=\"tab-flower\" id=\"tab-inst\"><svg id=\"flower-graph-inst\"></svg></div>\\n            <div class=\"tab-flower\" id=\"tab-topic\"><svg id=\"flower-graph-topic\"></svg></div>\\n          </div>\\n        </div>\\n        <div id=\"coreRecommenderOutput\"></div>\\n        <div id=\"iarxivOutput\"></div>\\n      </div>\\n\\n      <input type=\"radio\" name=\"tabs\" id=\"tabfive\">\\n      <label for=\"tabfive\">\\n        About arXivLabs\\n      </label>\\n      <div class=\"tab\">\\n        <div class=\"columns\">\\n          <div class=\"column\">\\n            <h1>arXivLabs: experimental projects with community collaborators</h1>\\n            <p>arXivLabs is a framework that allows collaborators to develop and share new arXiv features directly on our website.</p>\\n            <p>Both individuals and organizations that work with arXivLabs have embraced and accepted our values of openness, community, excellence, and user data privacy. arXiv is committed to these values and only works with partners that adhere to them.</p>\\n            <p>Have an idea for a project that will add value for arXiv\\'s community? <a href=\"https://info.arxiv.org/labs/index.html\"><strong>Learn more about arXivLabs</strong></a>.</p>\\n          </div>\\n          <div class=\"column is-narrow is-full-mobile\">\\n            <p class=\"icon-labs\"><svg xmlns=\"http://www.w3.org/2000/svg\" role=\"presentation\" viewBox=\"0 0 635.572 811\"><path d=\"M175.6 676v27h-27v-27zm-54 27v27h27v-27zm-27 27v27h27v-27zm396-54v27h-27v-27zm0 27v27h27v-27zm27 27v27h27v-27zm-27-414h27v27h-27zm27 0h27v-27h-27zm27-27h27v-27h-27zm-396 45h-27v-27h27zm-27-54h-27v27h27zm-27-27h-27v27h27z\"/><path d=\"M94.6 730v27h-27v-27zm477 0v27h-27v-27zm-27-495h27v27h-27zm-450 18h-27v-27h27zm477 9h27v27h-27zm-54 495h27v27h-27zm-423 0h27v27h-27zm-54-504h27v27h-27z\" fill=\"#666\"/><path d=\"M67.6 730v27h-27v-27zm54 54v27h-27v-27zm0-108v27h27v-27zm-27 27v27h27v-27zm-81 0v27h27v-27zm585 27v27h-27v-27zm-108-54v27h27v-27zm27 27v27h27v-27zm81 0v27h27v-27zm-54-495h27v27h-27zm-54 108h27v-27h-27zm27-27h27v-27h-27zm0-81h27v-27h-27zm-423 18h-27v-27h27zm54 54h-27v27h27zm-27-27h-27v27h27zm0-81h-27v27h27zm423 612v27h-27v-27zm81-522v27h-27v-27zm-585-9v27h-27v-27z\" fill=\"#999\"/><path d=\"M94.6 784v27h-27v-27zm-27-27v27h27v-27zm-27-54v27h27v-27zm27 0v27h27v-27zm0-27v27h27v-27zm27 0v27h27v-27zm0-27v27h27v-27zm27 0v27h27v-27zm-108 81v27h27v-27zm558 54v27h-27v-27zm-27-27v27h27v-27zm27-54v27h27v-27zm-27 0v27h27v-27zm0-27v27h27v-27zm-27 0v27h27v-27zm0-27v27h27v-27zm-27 0v27h27v-27zm108 81v27h27v-27zm0-495h27v27h-27zm-27 27h27v-27h-27zm-54-27h27v-27h-27zm0 27h27v-27h-27zm-27 0h27v-27h-27zm0 27h27v-27h-27zm-27 0h27v-27h-27zm0 27h27v-27h-27zm81-108h27v-27h-27zm-504 45h-27v-27h27zm27-27h-27v27h27zm54-27h-27v27h27zm0 27h-27v27h27zm27 0h-27v27h27zm0 27h-27v27h27zm27 0h-27v27h27zm0 27h-27v27h27zm-81-108h-27v27h27z\" fill=\"#ccc\"/><path d=\"M598.6 665.1H41.5C-76.5 667 176 280.2 176 280.2h53a46.5 46.5 0 0162.8-56.3 29.2 29.2 0 1128.5 35.9h-1a46.5 46.5 0 01-1.5 20.3l142.5-.1s255.3 387 138.3 385.1zM291 181a29.3 29.3 0 10-29.2-29.3A29.3 29.3 0 00291 181zm65.4-66.8a22.4 22.4 0 10-22.5-22.4 22.4 22.4 0 0022.5 22.4z\" fill=\"#fc0\"/><path d=\"M245.5 172V10h153v162s324 495 198 495h-558c-126 0 207-495 207-495zm126 54h56m-13 72h56m-9 72h56m-20 72h56m-22 72h56m-29 72h56m-457-45c20.8 41.7 87.3 81 160.7 81 72.1 0 142.1-38.2 163.4-81\" fill=\"none\" stroke=\"#000\" stroke-miterlimit=\"10\" stroke-width=\"20\"/><path d=\"M273.3 421.7c0 31-9.8 56.3-21.9 56.3s-21.8-25.2-21.8-56.3 9.8-56.3 21.8-56.3 21.9 25.2 21.9 56.3zm114.4-56.3c-12 0-21.8 25.2-21.8 56.3s9.7 56.3 21.8 56.3 21.9-25.2 21.9-56.3-9.8-56.3-21.9-56.3zM150.1 526.6c-18.2 6.7-27.5 22.9-23.2 30.2s14.8-5.5 33-12.2 37.4-4.9 33-12.2-24.5-12.6-42.8-5.8zm296 5.8c-4.2 7.3 14.9 5.5 33.1 12.2s28.7 19.5 33 12.2-5-23.5-23.2-30.2-38.5-1.5-42.8 5.8z\"/></svg></p>\\n          </div>\\n        </div>\\n      </div>\\n\\n    </div>\\n</div>\\n<!-- END LABS AREA -->\\n  <div class=\"endorsers\">\\n    <a href=\"/auth/show-endorsers/1706.03762\" class=\"endorser-who\" rel=\"nofollow\">Which authors of this paper are endorsers?</a> |\\n    <a id=\"mathjax_toggle\" href=\"javascript:setMathjaxCookie()\">Disable MathJax</a> (<a href=\"https://info.arxiv.org/help/mathjax.html\">What is MathJax?</a>)\\n    <span class=\"help\" style=\"font-style: normal; float: right; margin-top: 0; margin-right: 1em;\"></span>\\n  </div>\\n  <script type=\"text/javascript\" language=\"javascript\">mathjaxToggle();</script>\\n</div>\\n      </div>\\n    </main>\\n\\n    <footer style=\"clear: both;\">\\n      <div class=\"columns is-desktop\" role=\"navigation\" aria-label=\"Secondary\" style=\"margin: -0.75em -0.75em 0.75em -0.75em\">\\n        <!-- Macro-Column 1 -->\\n        <div class=\"column\" style=\"padding: 0;\">\\n          <div class=\"columns\">\\n            <div class=\"column\">\\n              <ul style=\"list-style: none; line-height: 2;\">\\n                <li><a href=\"https://info.arxiv.org/about\">About</a></li>\\n                <li><a href=\"https://info.arxiv.org/help\">Help</a></li>\\n              </ul>\\n            </div>\\n            <div class=\"column\">\\n              <ul style=\"list-style: none; line-height: 2;\">\\n                <li>\\n                  <svg xmlns=\"http://www.w3.org/2000/svg\" viewBox=\"0 0 512 512\" class=\"icon filter-black\" role=\"presentation\"><title>contact arXiv</title><desc>Click here to contact arXiv</desc><path d=\"M502.3 190.8c3.9-3.1 9.7-.2 9.7 4.7V400c0 26.5-21.5 48-48 48H48c-26.5 0-48-21.5-48-48V195.6c0-5 5.7-7.8 9.7-4.7 22.4 17.4 52.1 39.5 154.1 113.6 21.1 15.4 56.7 47.8 92.2 47.6 35.7.3 72-32.8 92.3-47.6 102-74.1 131.6-96.3 154-113.7zM256 320c23.2.4 56.6-29.2 73.4-41.4 132.7-96.3 142.8-104.7 173.4-128.7 5.8-4.5 9.2-11.5 9.2-18.9v-19c0-26.5-21.5-48-48-48H48C21.5 64 0 85.5 0 112v19c0 7.4 3.4 14.3 9.2 18.9 30.6 23.9 40.7 32.4 173.4 128.7 16.8 12.2 50.2 41.8 73.4 41.4z\"/></svg>\\n                  <a href=\"https://info.arxiv.org/help/contact.html\"> Contact</a>\\n                </li>\\n                <li>\\n                  <svg xmlns=\"http://www.w3.org/2000/svg\" viewBox=\"0 0 512 512\" class=\"icon filter-black\" role=\"presentation\"><title>subscribe to arXiv mailings</title><desc>Click here to subscribe</desc><path d=\"M476 3.2L12.5 270.6c-18.1 10.4-15.8 35.6 2.2 43.2L121 358.4l287.3-253.2c5.5-4.9 13.3 2.6 8.6 8.3L176 407v80.5c0 23.6 28.5 32.9 42.5 15.8L282 426l124.6 52.2c14.2 6 30.4-2.9 33-18.2l72-432C515 7.8 493.3-6.8 476 3.2z\"/></svg>\\n                  <a href=\"https://info.arxiv.org/help/subscribe\"> Subscribe</a>\\n                </li>\\n              </ul>\\n            </div>\\n          </div>\\n        </div>\\n        <!-- End Macro-Column 1 -->\\n        <!-- Macro-Column 2 -->\\n        <div class=\"column\" style=\"padding: 0;\">\\n          <div class=\"columns\">\\n            <div class=\"column\">\\n              <ul style=\"list-style: none; line-height: 2;\">\\n                <li><a href=\"https://info.arxiv.org/help/license/index.html\">Copyright</a></li>\\n                <li><a href=\"https://info.arxiv.org/help/policies/privacy_policy.html\">Privacy Policy</a></li>\\n              </ul>\\n            </div>\\n            <div class=\"column sorry-app-links\">\\n              <ul style=\"list-style: none; line-height: 2;\">\\n                <li><a href=\"https://info.arxiv.org/help/web_accessibility.html\">Web Accessibility Assistance</a></li>\\n                <li>\\n                  <p class=\"help\">\\n                    <a class=\"a11y-main-link\" href=\"https://status.arxiv.org\" target=\"_blank\">arXiv Operational Status <svg xmlns=\"http://www.w3.org/2000/svg\" viewBox=\"0 0 256 512\" class=\"icon filter-dark_grey\" role=\"presentation\"><path d=\"M224.3 273l-136 136c-9.4 9.4-24.6 9.4-33.9 0l-22.6-22.6c-9.4-9.4-9.4-24.6 0-33.9l96.4-96.4-96.4-96.4c-9.4-9.4-9.4-24.6 0-33.9L54.3 103c9.4-9.4 24.6-9.4 33.9 0l136 136c9.5 9.4 9.5 24.6.1 34z\"/></svg></a><br>\\n                    Get status notifications via\\n                    <a class=\"is-link\" href=\"https://subscribe.sorryapp.com/24846f03/email/new\" target=\"_blank\"><svg xmlns=\"http://www.w3.org/2000/svg\" viewBox=\"0 0 512 512\" class=\"icon filter-black\" role=\"presentation\"><path d=\"M502.3 190.8c3.9-3.1 9.7-.2 9.7 4.7V400c0 26.5-21.5 48-48 48H48c-26.5 0-48-21.5-48-48V195.6c0-5 5.7-7.8 9.7-4.7 22.4 17.4 52.1 39.5 154.1 113.6 21.1 15.4 56.7 47.8 92.2 47.6 35.7.3 72-32.8 92.3-47.6 102-74.1 131.6-96.3 154-113.7zM256 320c23.2.4 56.6-29.2 73.4-41.4 132.7-96.3 142.8-104.7 173.4-128.7 5.8-4.5 9.2-11.5 9.2-18.9v-19c0-26.5-21.5-48-48-48H48C21.5 64 0 85.5 0 112v19c0 7.4 3.4 14.3 9.2 18.9 30.6 23.9 40.7 32.4 173.4 128.7 16.8 12.2 50.2 41.8 73.4 41.4z\"/></svg>email</a>\\n                    or <a class=\"is-link\" href=\"https://subscribe.sorryapp.com/24846f03/slack/new\" target=\"_blank\"><svg xmlns=\"http://www.w3.org/2000/svg\" viewBox=\"0 0 448 512\" class=\"icon filter-black\" role=\"presentation\"><path d=\"M94.12 315.1c0 25.9-21.16 47.06-47.06 47.06S0 341 0 315.1c0-25.9 21.16-47.06 47.06-47.06h47.06v47.06zm23.72 0c0-25.9 21.16-47.06 47.06-47.06s47.06 21.16 47.06 47.06v117.84c0 25.9-21.16 47.06-47.06 47.06s-47.06-21.16-47.06-47.06V315.1zm47.06-188.98c-25.9 0-47.06-21.16-47.06-47.06S139 32 164.9 32s47.06 21.16 47.06 47.06v47.06H164.9zm0 23.72c25.9 0 47.06 21.16 47.06 47.06s-21.16 47.06-47.06 47.06H47.06C21.16 243.96 0 222.8 0 196.9s21.16-47.06 47.06-47.06H164.9zm188.98 47.06c0-25.9 21.16-47.06 47.06-47.06 25.9 0 47.06 21.16 47.06 47.06s-21.16 47.06-47.06 47.06h-47.06V196.9zm-23.72 0c0 25.9-21.16 47.06-47.06 47.06-25.9 0-47.06-21.16-47.06-47.06V79.06c0-25.9 21.16-47.06 47.06-47.06 25.9 0 47.06 21.16 47.06 47.06V196.9zM283.1 385.88c25.9 0 47.06 21.16 47.06 47.06 0 25.9-21.16 47.06-47.06 47.06-25.9 0-47.06-21.16-47.06-47.06v-47.06h47.06zm0-23.72c-25.9 0-47.06-21.16-47.06-47.06 0-25.9 21.16-47.06 47.06-47.06h117.84c25.9 0 47.06 21.16 47.06 47.06 0 25.9-21.16 47.06-47.06 47.06H283.1z\"/></svg>slack</a>\\n                  </p>\\n                </li>\\n              </ul>\\n            </div>\\n          </div>\\n        </div> <!-- end MetaColumn 2 -->\\n        <!-- End Macro-Column 2 -->\\n      </div>\\n    </footer>\\n  </div>\\n\\n  <script src=\"/static/base/1.0.1/js/member_acknowledgement.js\"></script>\\n\\n</body>\\n\\n</html>'"
      ]
     },
     "execution_count": 17,
     "metadata": {},
     "output_type": "execute_result"
    }
   ],
   "source": [
    "# Specify the arXiv ID for the paper\n",
    "arxiv_id = '1706.03762'\n",
    "\n",
    "# Make a GET request to retrieve the page for the specified paper\n",
    "res = requests.get(f'https://arxiv.org/abs/{arxiv_id}')\n",
    "\n",
    "# Access the content of the response as a string (HTML)\n",
    "res.text"
   ]
  },
  {
   "cell_type": "code",
   "execution_count": 18,
   "metadata": {},
   "outputs": [
    {
     "name": "stdout",
     "output_type": "stream",
     "text": [
      "The dominant sequence transduction models are based on complex recurrent or convolutional neural networks in an encoder-decoder configuration. The best performing models also connect the encoder and decoder through an attention mechanism. We propose a new simple network architecture, the Transformer, based solely on attention mechanisms, dispensing with recurrence and convolutions entirely. Experiments on two machine translation tasks show these models to be superior in quality while being more parallelizable and requiring significantly less time to train. Our model achieves 28.4 BLEU on the WMT 2014 English-to-German translation task, improving over the existing best results, including ensembles by over 2 BLEU. On the WMT 2014 English-to-French translation task, our model establishes a new single-model state-of-the-art BLEU score of 41.8 after training for 3.5 days on eight GPUs, a small fraction of the training costs of the best models from the literature. We show that the Transformer generalizes well to other tasks by applying it successfully to English constituency parsing both with large and limited training data.\n"
     ]
    }
   ],
   "source": [
    "# Compile a regular expression pattern to find the abstract in the HTML response\n",
    "abstract_pattern = re.compile(\n",
    "    r'<blockquote class=\"abstract mathjax\">\\s*<span class=\"descriptor\">Abstract:</span>\\s*(.*?)\\s*</blockquote>',\n",
    "    re.DOTALL\n",
    ")\n",
    "\n",
    "# Search for the abstract in the HTML response text\n",
    "re_match = abstract_pattern.search(res.text)\n",
    "\n",
    "# Check if the abstract was found and print it; otherwise, display an error message\n",
    "if re_match:\n",
    "    print(re_match.group(1))\n",
    "else:\n",
    "    print('Abstract not found.')"
   ]
  },
  {
   "cell_type": "markdown",
   "metadata": {},
   "source": [
    "## Fetch Abstract from Arxiv using arxiv_id"
   ]
  },
  {
   "cell_type": "code",
   "execution_count": 19,
   "metadata": {},
   "outputs": [],
   "source": [
    "abstract_pattern = re.compile(\n",
    "    r'<blockquote class=\"abstract mathjax\">\\s*<span class=\"descriptor\">Abstract:</span>\\s*(.*?)\\s*</blockquote>',\n",
    "    re.DOTALL\n",
    ")\n",
    "\n",
    "@tool\n",
    "def fetch_abstract_from_arxiv(arxiv_id: str) -> str:\n",
    "    \"\"\"\n",
    "    Fetches the abstract of the paper with the specified arXiv ID.\n",
    "    Args:\n",
    "        arxiv_id (str): The arXiv ID of the paper.\n",
    "    Returns:\n",
    "        str: The abstract of the paper, or an error message if not found.\n",
    "    \"\"\"\n",
    "\n",
    "    res = requests.get(f'https://arxiv.org/abs/{arxiv_id}')\n",
    "    \n",
    "    re_match = abstract_pattern.search(res.text)\n",
    "\n",
    "    return re_match.group(1) if re_match else 'Abstract not found.'\n"
   ]
  },
  {
   "cell_type": "code",
   "execution_count": 20,
   "metadata": {},
   "outputs": [
    {
     "data": {
      "text/plain": [
       "'The dominant sequence transduction models are based on complex recurrent or convolutional neural networks in an encoder-decoder configuration. The best performing models also connect the encoder and decoder through an attention mechanism. We propose a new simple network architecture, the Transformer, based solely on attention mechanisms, dispensing with recurrence and convolutions entirely. Experiments on two machine translation tasks show these models to be superior in quality while being more parallelizable and requiring significantly less time to train. Our model achieves 28.4 BLEU on the WMT 2014 English-to-German translation task, improving over the existing best results, including ensembles by over 2 BLEU. On the WMT 2014 English-to-French translation task, our model establishes a new single-model state-of-the-art BLEU score of 41.8 after training for 3.5 days on eight GPUs, a small fraction of the training costs of the best models from the literature. We show that the Transformer generalizes well to other tasks by applying it successfully to English constituency parsing both with large and limited training data.'"
      ]
     },
     "execution_count": 20,
     "metadata": {},
     "output_type": "execute_result"
    }
   ],
   "source": [
    "abstract = fetch_abstract_from_arxiv.invoke(input={\"arxiv_id\": arxiv_id})\n",
    "abstract"
   ]
  },
  {
   "cell_type": "markdown",
   "metadata": {},
   "source": [
    "## RAG Search Tools"
   ]
  },
  {
   "cell_type": "code",
   "execution_count": null,
   "metadata": {},
   "outputs": [],
   "source": [
    "def get_embeddings(texts: list[str],\n",
    "                       model_name: str=EMBEDDING_MODEL_NAME):\n",
    "        # Define the Hugging Face Embeddings\n",
    "        embeddings = HuggingFaceEmbeddings(model_name=model_name)\n",
    "\n",
    "        embeddings_list = []\n",
    "        for text in texts:\n",
    "            embeddings_list.append(embeddings.embed_query(text))\n",
    "\n",
    "        return embeddings_list"
   ]
  },
  {
   "cell_type": "code",
   "execution_count": 21,
   "metadata": {},
   "outputs": [],
   "source": [
    "def format_rag_results(matches: list) -> str:\n",
    "    \"\"\"\n",
    "    Formats the RAG search results into a readable format.\n",
    "    Args:\n",
    "        matches (list): A list of matches from the RAG search.\n",
    "    Returns:\n",
    "        str: A formatted string containing the title, chunk, and arXiv ID of each match.\n",
    "    \"\"\"\n",
    "    formatted_results = []\n",
    "    \n",
    "    # Loop through each match and extract its metadata.\n",
    "    for match in matches:\n",
    "        text = (\n",
    "            f\"Title: {match['metadata']['title']}\\n\"\n",
    "            f\"Chunk: {match['metadata']['chunk']}\\n\"\n",
    "            f\"ArXiv ID: {match['metadata']['arxiv_id']}\\n\"\n",
    "        )\n",
    "        # Append each formatted string to the results list.\n",
    "        formatted_results.append(text)\n",
    "    \n",
    "    # Join all the individual formatted strings into one large string.\n",
    "    return '\\n---\\n'.join(formatted_results)\n"
   ]
  },
  {
   "cell_type": "code",
   "execution_count": 22,
   "metadata": {},
   "outputs": [],
   "source": [
    "pc = PinconeVectorDb()"
   ]
  },
  {
   "cell_type": "code",
   "execution_count": 24,
   "metadata": {},
   "outputs": [
    {
     "data": {
      "text/plain": [
       "<pinecone.control.pinecone.Pinecone at 0x277c0e15390>"
      ]
     },
     "execution_count": 24,
     "metadata": {},
     "output_type": "execute_result"
    }
   ],
   "source": [
    "pc.pc"
   ]
  },
  {
   "cell_type": "code",
   "execution_count": null,
   "metadata": {},
   "outputs": [],
   "source": [
    "@tool\n",
    "def rag_search_filter(query: str, arxiv_id: str) -> str:\n",
    "    '''Finds information from the ArXiv database using a natural language query and a specific ArXiv ID.\n",
    "\n",
    "    Args:\n",
    "        query (str): The search query in natural language.\n",
    "        arxiv_id (str): The ArXiv ID of the specific paper to filter by.\n",
    "    \n",
    "    Returns:\n",
    "        str: A formatted string of relevant document contexts.\n",
    "    '''\n",
    "    \n",
    "    # Encode the query into a vector representation.\n",
    "    xq = get_embeddings(query)\n",
    "    \n",
    "    # Perform a search on the Pinecone index, filtering by ArXiv ID.\n",
    "    xc = pc.pc.query(vector=xq, top_k=6, include_metadata=True, filter={'arxiv_id': arxiv_id})\n",
    "    \n",
    "    # Format and return the search results.\n",
    "    return format_rag_results(xc['matches'])"
   ]
  },
  {
   "cell_type": "code",
   "execution_count": null,
   "metadata": {},
   "outputs": [],
   "source": [
    "@tool\n",
    "def rag_search(query: str) -> str:\n",
    "    \"\"\"\n",
    "    Finds information from the ArXiv database using a natural language query.\n",
    "    Args:\n",
    "        query (str): The search query in natural language.\n",
    "    Returns:\n",
    "        str: A formatted string of relevant document contexts.\n",
    "    \"\"\"\n",
    "    # Encode the query into a vector representation.\n",
    "    xq = get_embeddings(query)\n",
    "    \n",
    "    # Perform a broader search without filtering by ArXiv ID.\n",
    "    xc = pc.pc.query(vector=xq, top_k=5, include_metadata=True)\n",
    "    \n",
    "    # Format and return the search results.\n",
    "    return format_rag_results(xc['matches'])\n"
   ]
  },
  {
   "cell_type": "markdown",
   "metadata": {},
   "source": [
    "## Web Search Tool (Tavily)"
   ]
  },
  {
   "cell_type": "code",
   "execution_count": null,
   "metadata": {},
   "outputs": [
    {
     "name": "stdout",
     "output_type": "stream",
     "text": [
      "2024 Olympics: Summer Games Dates, Logo, Location and Schedule\n",
      "Paris 2024 Olympics. Watch more top videos, highlights, and B/R original content ... softball and karate—will not be held in Paris. ... As the 1900 Paris Games were the first to allow women to\n",
      "https://bleacherreport.com/articles/2946974-2024-olympics-summer-games-dates-logo-location-and-schedule\n",
      "---\n",
      "2024 Olympics locations, venues, host cities - FOX Sports\n",
      "2024 Summer Olympics Host Cities. Paris is the main host city for the 2024 Summer Olympic games, with events held at 16 other cities spread across Metropolitan France as well as one subsite in\n",
      "https://www.foxsports.com/stories/olympics/2024-summer-olympics-locations-venues-host-cities\n",
      "---\n",
      "2024 Summer Olympics FAQ: Dates, locations, new sports, more\n",
      "How many events were held at the 2024 Summer Olympics? The 2024 Paris Olympics featured 329 medal events, second most in the history of the Games (339 at the 2020 Tokyo Summer Olympics). Of the\n",
      "https://www.espn.com/olympics/story/_/id/40322251/2024-summer-olympics-paris-dates-locations-song-motto-opening-ceremony\n",
      "---\n",
      "All you need to know about the Paris 2024 Olympics - BBC\n",
      "The Paris 2024 Olympic Games will showcase 3,800 hours of live sport and award 329 gold medals in 32 sports over 18 days of competition across the capital and in other parts of France.\n",
      "https://www.bbc.com/sport/articles/cz99g6g8m92o\n",
      "---\n",
      "Where are the Olympics in 2024? Locations, venues and more to know ...\n",
      "Paris has the honor of hosting the 2024 Olympics from July 26-Aug. 11. It's the third time that Paris is hosting the Olympics and first time since 1924. With that said, here's all there is to know\n",
      "https://www.sportingnews.com/us/olympics/news/olympics-2024-locations-venues-paris/9a016f7c9b1c56518eaaca37\n"
     ]
    }
   ],
   "source": [
    "query = \"where were olymics 2024 held?\"\n",
    "search = TavilyClient().search(query=query,\n",
    "                                search_depth='advanced',\n",
    "                                max_results=5)\n",
    "results = search.get('results', [])\n",
    "\n",
    "formatted_results = '\\n---\\n'.join(\n",
    "    ['\\n'.join([x['title'], x['content'], x['url']]) for x in results]\n",
    ")\n",
    "print(formatted_results)"
   ]
  },
  {
   "cell_type": "code",
   "execution_count": null,
   "metadata": {},
   "outputs": [],
   "source": [
    "@tool\n",
    "def web_search(query: str) -> str:\n",
    "    \"\"\"\n",
    "    Finds general knowledge information using a Tavily search.\n",
    "    Args:\n",
    "        query (str): The search query string.\n",
    "    \n",
    "    Returns:\n",
    "        str: A formatted string of the top search results, including title, content, and url.\n",
    "    \"\"\"\n",
    "    \n",
    "    search = TavilyClient().search(query=query,\n",
    "                                search_depth='advanced',\n",
    "                                max_results=5)\n",
    "    results = search.get('results', [])\n",
    "\n",
    "    formatted_results = '\\n---\\n'.join(\n",
    "        ['\\n'.join([x['title'], x['content'], x['url']]) for x in results]\n",
    "    )\n",
    "    \n",
    "    # Return the formatted results or a 'No results found.' message if no results exist.\n",
    "    return formatted_results if results else 'No results found.'"
   ]
  },
  {
   "cell_type": "markdown",
   "metadata": {},
   "source": [
    "## Final Answer Tool"
   ]
  },
  {
   "cell_type": "code",
   "execution_count": 28,
   "metadata": {},
   "outputs": [],
   "source": [
    "@tool\n",
    "def final_answer(introduction: str,\n",
    "                 research_steps: str | list,\n",
    "                 main_body: str,\n",
    "                 conclusion: str,\n",
    "                 sources: str | list) -> str:\n",
    "    \"\"\"\n",
    "    Constructs a final research report from the provided introduction, research steps, main body, conclusion, and sources.\n",
    "    Args:\n",
    "        introduction (str): A brief introduction to the research report.\n",
    "        research_steps (str | list): The steps taken in the research process, either as a string or a list of strings.\n",
    "        main_body (str): The main body of the research report.\n",
    "        conclusion (str): The conclusion drawn from the research process.\n",
    "        sources (str | list): The sources used in the research, either as a string or a list of strings.\n",
    "    Returns:\n",
    "        str: The final research report as a string.\n",
    "    \"\"\"\n",
    "\n",
    "    # Format research steps if given as a list.\n",
    "    if isinstance(research_steps, list):\n",
    "        research_steps = '\\n'.join([f'- {r}' for r in research_steps])\n",
    "    \n",
    "    # Format sources if given as a list.\n",
    "    if isinstance(sources, list):\n",
    "        sources = '\\n'.join([f'- {s}' for s in sources])\n",
    "    \n",
    "    # Construct and return the final research report.\n",
    "    return f'{introduction}\\n\\n \\\n",
    "        Research Steps:\\n{research_steps}\\n\\n \\\n",
    "            Main Body:\\n{main_body}\\n\\n \\\n",
    "                Conclusion:\\n{conclusion}\\n\\n \\\n",
    "                    Sources:\\n{sources}'\n"
   ]
  }
 ],
 "metadata": {
  "kernelspec": {
   "display_name": ".venv",
   "language": "python",
   "name": "python3"
  },
  "language_info": {
   "codemirror_mode": {
    "name": "ipython",
    "version": 3
   },
   "file_extension": ".py",
   "mimetype": "text/x-python",
   "name": "python",
   "nbconvert_exporter": "python",
   "pygments_lexer": "ipython3",
   "version": "3.10.0"
  }
 },
 "nbformat": 4,
 "nbformat_minor": 2
}
